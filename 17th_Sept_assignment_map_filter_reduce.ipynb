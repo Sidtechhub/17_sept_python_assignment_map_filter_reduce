{
 "cells": [
  {
   "cell_type": "code",
   "execution_count": null,
   "id": "b12c3c81-1e57-47ea-87b6-d2e9f0a9f4e3",
   "metadata": {},
   "outputs": [],
   "source": [
    "# For Loop :-"
   ]
  },
  {
   "cell_type": "code",
   "execution_count": null,
   "id": "bf0642d8-ea12-40c6-8c2a-02a08e1ae132",
   "metadata": {},
   "outputs": [],
   "source": [
    "# 1.Write a Python program to print numbers from 1 to 10 using a for loop"
   ]
  },
  {
   "cell_type": "code",
   "execution_count": 4,
   "id": "363c5a59-916f-44b9-9d73-852e7ad9c38f",
   "metadata": {},
   "outputs": [
    {
     "name": "stdout",
     "output_type": "stream",
     "text": [
      "1\n",
      "2\n",
      "3\n",
      "4\n",
      "5\n",
      "6\n",
      "7\n",
      "8\n",
      "9\n",
      "10\n"
     ]
    }
   ],
   "source": [
    "for i in range(1,11):\n",
    "    print(i)"
   ]
  },
  {
   "cell_type": "code",
   "execution_count": null,
   "id": "37d6f653-7202-472d-9b4d-95da99856ed2",
   "metadata": {},
   "outputs": [],
   "source": []
  },
  {
   "cell_type": "code",
   "execution_count": null,
   "id": "9e2f3161-0252-46ff-a076-f10e03cd871b",
   "metadata": {},
   "outputs": [],
   "source": [
    "# 2.Explain the difference between a for loop and a while loop in Python."
   ]
  },
  {
   "cell_type": "code",
   "execution_count": null,
   "id": "653f73bc-18af-40a6-8b04-54d430ddaac3",
   "metadata": {},
   "outputs": [],
   "source": [
    "'''For loop\n",
    "For loop is used to iterate over a sequence of items.\n",
    "For loops are designed for iterating over a sequence of items. Eg. list, tuple, etc.\n",
    "For loop require a sequence to iterate over.\n",
    "For loop is typically used for iterating over a fixed sequence of items\n",
    "For loop is more efficient than a while loop when iterating over sequences, since the number of iterations is predetermined and the loop can be optimized accordingly.\n",
    "\n",
    "While loop\n",
    "While loop is used to repeatedly execute a block of statements while a condition is true.\n",
    "While loop is used when the number of iterations is not known in advance or when we want to repeat a block of code until a certain condition is met.\n",
    "While the loop requires an initial condition that is tested at the beginning of the loop.\n",
    "While loop is used for more complex control flow situations.\n",
    "While a loop may be more efficient in certain situations where the condition being tested can be evaluated quickly.'''"
   ]
  },
  {
   "cell_type": "code",
   "execution_count": null,
   "id": "e02bd29f-c35b-49de-98b9-6e64a36c57ed",
   "metadata": {},
   "outputs": [],
   "source": []
  },
  {
   "cell_type": "code",
   "execution_count": null,
   "id": "ffd73174-44b0-4ae9-9271-bb5c170b8f87",
   "metadata": {},
   "outputs": [],
   "source": [
    "# 3.Write a Python program to calculate the sum of all numbers from 1 to 100 using a for loop."
   ]
  },
  {
   "cell_type": "code",
   "execution_count": 13,
   "id": "82d98828-bd7d-41b2-b6ae-6b07bb3201be",
   "metadata": {},
   "outputs": [
    {
     "name": "stdout",
     "output_type": "stream",
     "text": [
      "5050\n"
     ]
    }
   ],
   "source": [
    "sum=0\n",
    "for i in range(1,101):\n",
    "    sum=sum+i\n",
    "print(sum)    "
   ]
  },
  {
   "cell_type": "code",
   "execution_count": null,
   "id": "df246064-036d-49c8-8043-40e4a116f3de",
   "metadata": {},
   "outputs": [],
   "source": []
  },
  {
   "cell_type": "code",
   "execution_count": null,
   "id": "4d1c2da9-eafa-4a48-8130-7c46e10689d2",
   "metadata": {},
   "outputs": [],
   "source": [
    "# 4.How do you iterate through a list using a for loop in Python?"
   ]
  },
  {
   "cell_type": "code",
   "execution_count": null,
   "id": "0bb3a1b9-ca02-46c9-972a-67c9645a3115",
   "metadata": {},
   "outputs": [],
   "source": [
    "''' By using for i in list we can iterate through list and perform required operation '''"
   ]
  },
  {
   "cell_type": "code",
   "execution_count": 71,
   "id": "91a1304a-31e9-4703-b989-bc76a425335c",
   "metadata": {},
   "outputs": [
    {
     "name": "stdout",
     "output_type": "stream",
     "text": [
      "1\n",
      "2\n",
      "3\n",
      "4\n"
     ]
    }
   ],
   "source": [
    "l=[1,2,3,4]\n",
    "for  i in l:\n",
    "    print(i)"
   ]
  },
  {
   "cell_type": "code",
   "execution_count": null,
   "id": "ad636f67-3ec8-4110-b8f3-16e5ad981aae",
   "metadata": {},
   "outputs": [],
   "source": [
    "# 5.Write a Python program to find the product of all elements in a list using a for loop."
   ]
  },
  {
   "cell_type": "code",
   "execution_count": 4,
   "id": "e5a41966-7843-4bb5-b7c1-5d9eee8afa27",
   "metadata": {},
   "outputs": [
    {
     "name": "stdout",
     "output_type": "stream",
     "text": [
      "240\n"
     ]
    }
   ],
   "source": [
    "l=[1,2,3,40]\n",
    "pro=1\n",
    "for i in l:\n",
    "    pro=pro*i\n",
    "print(pro)    "
   ]
  },
  {
   "cell_type": "code",
   "execution_count": null,
   "id": "2fb49a6d-16bb-4519-b314-48a13112a2b9",
   "metadata": {},
   "outputs": [],
   "source": []
  },
  {
   "cell_type": "code",
   "execution_count": null,
   "id": "1c6d8319-592f-47e9-8994-c001753b9cf1",
   "metadata": {},
   "outputs": [],
   "source": [
    "# 6.Create a Python program that prints all even numbers from 1 to 20 using a for loop."
   ]
  },
  {
   "cell_type": "code",
   "execution_count": 17,
   "id": "2a56603d-ed87-467e-91c4-c3108b703b70",
   "metadata": {},
   "outputs": [
    {
     "name": "stdout",
     "output_type": "stream",
     "text": [
      "2\n",
      "4\n",
      "6\n",
      "8\n",
      "10\n",
      "12\n",
      "14\n",
      "16\n",
      "18\n",
      "20\n"
     ]
    }
   ],
   "source": [
    "for i in range(1,21):\n",
    "    if i%2==0:\n",
    "        print(i)"
   ]
  },
  {
   "cell_type": "code",
   "execution_count": null,
   "id": "3fe5e981-c6ec-4e1e-81cb-3f0018c8e9ca",
   "metadata": {},
   "outputs": [],
   "source": [
    "\n",
    "\n",
    "\n",
    "\n",
    "\n"
   ]
  },
  {
   "cell_type": "code",
   "execution_count": null,
   "id": "6f029e27-95f6-4174-95bd-a76432d3cb0f",
   "metadata": {},
   "outputs": [],
   "source": [
    "# 7. Write a Python program that calculates the factorial of a number using a for loop."
   ]
  },
  {
   "cell_type": "code",
   "execution_count": 20,
   "id": "51a2adf4-8a2c-42c1-97a1-493191ba678d",
   "metadata": {},
   "outputs": [
    {
     "name": "stdout",
     "output_type": "stream",
     "text": [
      "The value of 5! is = 120\n"
     ]
    }
   ],
   "source": [
    "num=5\n",
    "factorial=1\n",
    "for i in range(1,num+1):\n",
    "    factorial=factorial*(i)\n",
    "print(f\"The value of {num}! is = {factorial}\")"
   ]
  },
  {
   "cell_type": "code",
   "execution_count": null,
   "id": "1e9c3c46-8d9c-40e0-8818-74104ef923f7",
   "metadata": {},
   "outputs": [],
   "source": []
  },
  {
   "cell_type": "code",
   "execution_count": null,
   "id": "c7191178-3d4d-43b6-8a17-a2d56e5a34f6",
   "metadata": {},
   "outputs": [],
   "source": [
    "# 8. How can you iterate through the characters of a string using a for loop in Python?"
   ]
  },
  {
   "cell_type": "code",
   "execution_count": 8,
   "id": "2b9c3a4e-71b2-4a38-b99c-d8f24cc0a0a2",
   "metadata": {},
   "outputs": [
    {
     "name": "stdout",
     "output_type": "stream",
     "text": [
      "p\n",
      "y\n",
      "t\n",
      "h\n",
      "o\n",
      "n\n"
     ]
    }
   ],
   "source": [
    "# We can iterate through each character of string using for loop in following way and iteration occurs  for each character inside the string and \n",
    "# finally printed  one after  the one \n",
    "string=\"python\"\n",
    "for i in string:\n",
    "    print(i)"
   ]
  },
  {
   "cell_type": "code",
   "execution_count": null,
   "id": "70de5a06-9abe-4910-8ccd-bbd6cb0dee2f",
   "metadata": {},
   "outputs": [],
   "source": []
  },
  {
   "cell_type": "code",
   "execution_count": null,
   "id": "14201ba0-293d-407e-804d-f0aceff4e9a8",
   "metadata": {},
   "outputs": [],
   "source": [
    "# 9. Write a Python program to find the largest number in a list using a for loop."
   ]
  },
  {
   "cell_type": "code",
   "execution_count": 18,
   "id": "3ef09e95-b89e-4889-b523-7db4cad03457",
   "metadata": {},
   "outputs": [
    {
     "name": "stdout",
     "output_type": "stream",
     "text": [
      "4\n"
     ]
    }
   ],
   "source": [
    "l=[1,2,3,4]\n",
    "for i in l:\n",
    "    if i==max(l):\n",
    "        print(i)"
   ]
  },
  {
   "cell_type": "code",
   "execution_count": null,
   "id": "50425e05-dbd2-4f43-b559-24e61fbdd940",
   "metadata": {},
   "outputs": [],
   "source": []
  },
  {
   "cell_type": "code",
   "execution_count": null,
   "id": "c7566705-1a1b-463f-8acc-5ae3ac29cfde",
   "metadata": {},
   "outputs": [],
   "source": [
    "# 10. Create a Python program that prints the Fibonacci sequence up to a specified limit using a for loop."
   ]
  },
  {
   "cell_type": "code",
   "execution_count": 12,
   "id": "6ee4fe5d-934c-48f3-9d62-81e999480a6b",
   "metadata": {},
   "outputs": [
    {
     "name": "stdin",
     "output_type": "stream",
     "text": [
      "How many terms?  4\n"
     ]
    },
    {
     "name": "stdout",
     "output_type": "stream",
     "text": [
      "Fibonacci sequence:\n",
      "0\n",
      "1\n",
      "1\n",
      "2\n"
     ]
    }
   ],
   "source": [
    "# Program to display the Fibonacci sequence up to n-th term\n",
    "\n",
    "n= int(input(\"How many terms? \"))\n",
    "\n",
    "# first two terms\n",
    "n1, n2 = 0, 1\n",
    "count = 0\n",
    "\n",
    "# check if the number of terms is valid\n",
    "if n <= 0:\n",
    "   print(\"Please enter a positive integer\")\n",
    "# if there is only one term, return n1\n",
    "elif n == 1:\n",
    "   print(\"Fibonacci sequence upto\",n,\":\")\n",
    "   print(n1)\n",
    "# generate fibonacci sequence\n",
    "else:\n",
    "   print(\"Fibonacci sequence:\")\n",
    "   while count < n:\n",
    "       print(n1)\n",
    "       nth = n1 + n2\n",
    "       # update values\n",
    "       n1 = n2\n",
    "       n2 = nth\n",
    "       count += 1"
   ]
  },
  {
   "cell_type": "code",
   "execution_count": null,
   "id": "c45b2b79-00c5-43b2-b2e4-b3e4d65de5a5",
   "metadata": {},
   "outputs": [],
   "source": []
  },
  {
   "cell_type": "code",
   "execution_count": null,
   "id": "310faddf-65c5-4cc3-ae7e-af536fa4a681",
   "metadata": {},
   "outputs": [],
   "source": [
    "# 11. Write a Python program to count the number of vowels in a given string using a for loop."
   ]
  },
  {
   "cell_type": "code",
   "execution_count": 74,
   "id": "acf17409-a54a-48b8-a808-4fb811157269",
   "metadata": {},
   "outputs": [
    {
     "name": "stdout",
     "output_type": "stream",
     "text": [
      "5\n"
     ]
    }
   ],
   "source": [
    "string=\"meditation\"\n",
    "count=0\n",
    "for i in string:\n",
    "    if i==\"a\" or i==\"e\"  or i==\"i\"  or i==\"o\"  or i==\"u\" :\n",
    "        count=count+1\n",
    "print(count)"
   ]
  },
  {
   "cell_type": "code",
   "execution_count": null,
   "id": "4cde5663-80fb-4110-8d71-6c5fec9ae28a",
   "metadata": {},
   "outputs": [],
   "source": []
  },
  {
   "cell_type": "code",
   "execution_count": null,
   "id": "5a00eb0f-12b5-42fc-8eb9-ad402d049013",
   "metadata": {},
   "outputs": [],
   "source": [
    "# 12. Create a Python program that generates a multiplication table for a given number using a for loop."
   ]
  },
  {
   "cell_type": "code",
   "execution_count": 38,
   "id": "6ce5680c-85d3-468a-a8c6-30ce687ca471",
   "metadata": {},
   "outputs": [
    {
     "name": "stdout",
     "output_type": "stream",
     "text": [
      " 5 X 1 = 5 \n",
      " 5 X 2 = 10 \n",
      " 5 X 3 = 15 \n",
      " 5 X 4 = 20 \n",
      " 5 X 5 = 25 \n",
      " 5 X 6 = 30 \n",
      " 5 X 7 = 35 \n",
      " 5 X 8 = 40 \n",
      " 5 X 9 = 45 \n",
      " 5 X 10 = 50 \n"
     ]
    }
   ],
   "source": [
    "num=5\n",
    "for i in range(1,11):\n",
    "    print(f\" {num} X {i} = {num*i} \")"
   ]
  },
  {
   "cell_type": "code",
   "execution_count": null,
   "id": "3f5d7cc4-326d-4a5a-836e-7d15ed38efcb",
   "metadata": {},
   "outputs": [],
   "source": []
  },
  {
   "cell_type": "code",
   "execution_count": null,
   "id": "5cded404-364a-4162-806d-d9a0ff7924b4",
   "metadata": {},
   "outputs": [],
   "source": [
    "# 13. Write a Python program to reverse a list using a for loop."
   ]
  },
  {
   "cell_type": "code",
   "execution_count": 39,
   "id": "42df3b90-48cd-44cd-bd8d-8ac005841ad4",
   "metadata": {},
   "outputs": [
    {
     "name": "stdout",
     "output_type": "stream",
     "text": [
      "[4, 3, 2, 1]\n"
     ]
    }
   ],
   "source": [
    "l=[1,2,3,4]\n",
    "for i in range(0,len(l)):\n",
    "    "
   ]
  },
  {
   "cell_type": "code",
   "execution_count": null,
   "id": "bbc8a74a-e7fe-4095-b096-7e87a41b1af5",
   "metadata": {},
   "outputs": [],
   "source": []
  },
  {
   "cell_type": "code",
   "execution_count": null,
   "id": "07127d1a-de4e-47be-ba6b-058fa61bd1c7",
   "metadata": {},
   "outputs": [],
   "source": [
    "# 14. Write a Python program to find the common elements between two lists using a for loop."
   ]
  },
  {
   "cell_type": "code",
   "execution_count": 36,
   "id": "d2c36b91-f48f-4b30-9eba-228a505ff719",
   "metadata": {},
   "outputs": [
    {
     "name": "stdout",
     "output_type": "stream",
     "text": [
      "3 4 5 "
     ]
    }
   ],
   "source": [
    "l1=[1,2,3,4,5]\n",
    "l2=[3,4,5,6,7]\n",
    "for i in l1:\n",
    "    if i in l2:\n",
    "        print(i,end=\" \")"
   ]
  },
  {
   "cell_type": "code",
   "execution_count": null,
   "id": "331aea39-a0a5-4052-90e1-556f4dff9c05",
   "metadata": {},
   "outputs": [],
   "source": []
  },
  {
   "cell_type": "code",
   "execution_count": null,
   "id": "b58477cb-0c08-4acd-92c3-f0a81ed1b2a3",
   "metadata": {},
   "outputs": [],
   "source": [
    "# 15. Explain how to use a for loop to iterate through the keys and values of a dictionary in Python."
   ]
  },
  {
   "cell_type": "code",
   "execution_count": 84,
   "id": "f88b1fec-9628-4e16-ba47-c68e5387e8ee",
   "metadata": {},
   "outputs": [
    {
     "name": "stdout",
     "output_type": "stream",
     "text": [
      "name\n",
      "class\n",
      "total_subjects\n",
      "Siddharth\n",
      "AI\n",
      "10\n"
     ]
    }
   ],
   "source": [
    "'''To iterate through the keys and values of a dictionary in Python we can use for loop \n",
    "for iterating through the keys use for keys in dict.keys() where keys are inside list of keys called dict_keys[]\n",
    "Similarly  for iterating through the values  use for values in dict.values() where values are inside list of values called dict_values[]\n",
    "'''\n",
    "\n",
    "diction={\"name\":\"Siddharth\",\"class\":\"AI\",\"total_subjects\":10}\n",
    "for keys in diction.keys():\n",
    "    print(keys)\n",
    "for values in diction.values():\n",
    "    print(values)"
   ]
  },
  {
   "cell_type": "code",
   "execution_count": null,
   "id": "3dc16bd8-4256-431d-b6d5-483d233248ad",
   "metadata": {},
   "outputs": [],
   "source": []
  },
  {
   "cell_type": "code",
   "execution_count": null,
   "id": "95eadcdc-98d5-4aa4-b524-97f34a1adce9",
   "metadata": {},
   "outputs": [],
   "source": [
    "# 16. Write a Python program to find the GCD (Greatest Common Divisor) of two numbers using a for loop."
   ]
  },
  {
   "cell_type": "code",
   "execution_count": 13,
   "id": "a3ee4bd9-a36c-4a43-a717-6cb8a4525bbf",
   "metadata": {},
   "outputs": [
    {
     "name": "stdout",
     "output_type": "stream",
     "text": [
      "The H.C.F. is 2\n"
     ]
    }
   ],
   "source": [
    "# Python program to find H.C.F of two numbers\n",
    "\n",
    "# define a function\n",
    "def compute_hcf(x, y):\n",
    "\n",
    "# choose the smaller number\n",
    "    if x > y:\n",
    "        smaller = y\n",
    "    else:\n",
    "        smaller = x\n",
    "    for i in range(1, smaller+1):\n",
    "        if((x % i == 0) and (y % i == 0)):\n",
    "            hcf = i \n",
    "    return hcf\n",
    "\n",
    "num1 = 6 \n",
    "num2 = 2\n",
    "\n",
    "print(\"The H.C.F. is\", compute_hcf(num1, num2))\n"
   ]
  },
  {
   "cell_type": "code",
   "execution_count": null,
   "id": "f500ecf3-d543-4e9a-8028-7d16208e63b6",
   "metadata": {},
   "outputs": [],
   "source": []
  },
  {
   "cell_type": "code",
   "execution_count": null,
   "id": "6f01c880-c8f1-4a8e-92fb-36ecf707def9",
   "metadata": {},
   "outputs": [],
   "source": [
    "# 17. Create a Python program that checks if a string is a palindrome using a for loop"
   ]
  },
  {
   "cell_type": "code",
   "execution_count": 19,
   "id": "f96172c5-640d-4fb5-9ba6-4c9e155ab8b0",
   "metadata": {},
   "outputs": [
    {
     "name": "stdout",
     "output_type": "stream",
     "text": [
      "Yes, string is pallindrome.\n"
     ]
    }
   ],
   "source": [
    "string=\"noon\"\n",
    "\n",
    "for i in range(len(string)):\n",
    "    if list(string)==list(string)[::-1]:\n",
    "        print(\"Yes, string is pallindrome.\")\n",
    "        break\n",
    "    else:\n",
    "        print(\"No, string is not a  pallindrome.\")\n",
    "        break\n"
   ]
  },
  {
   "cell_type": "code",
   "execution_count": null,
   "id": "674f645e-67b5-4cd6-88b8-4bef8e195ca2",
   "metadata": {},
   "outputs": [],
   "source": []
  },
  {
   "cell_type": "code",
   "execution_count": null,
   "id": "6a192743-76ba-448d-af35-57f97ac75e4c",
   "metadata": {},
   "outputs": [],
   "source": [
    "# 18. Write a Python program to remove duplicates from a list using a for loop."
   ]
  },
  {
   "cell_type": "code",
   "execution_count": 21,
   "id": "8c34e937-55a8-4c7b-afcf-c8d8ce4ce8cc",
   "metadata": {},
   "outputs": [
    {
     "name": "stdout",
     "output_type": "stream",
     "text": [
      "[2, 4, 10, 20, 5]\n"
     ]
    }
   ],
   "source": [
    "duplicate = [2, 4, 10, 20, 5, 2, 20, 4]\n",
    "final_list = []\n",
    "for num in duplicate:\n",
    "    if num not in final_list:\n",
    "        final_list.append(num)\n",
    "    \n",
    "     \n",
    "\n",
    "\n",
    "print(final_list)"
   ]
  },
  {
   "cell_type": "code",
   "execution_count": null,
   "id": "a55e36ae-ad1c-479a-9413-03bdd3ccc370",
   "metadata": {},
   "outputs": [],
   "source": []
  },
  {
   "cell_type": "code",
   "execution_count": null,
   "id": "f79e8372-b0a9-4245-8fb6-8d4ed8a75951",
   "metadata": {},
   "outputs": [],
   "source": [
    "# 19. Create a Python program that counts the number of words in a sentence using a for loop."
   ]
  },
  {
   "cell_type": "code",
   "execution_count": 13,
   "id": "2d97ef68-ac6f-4cea-8b04-2ee5f9cbe39b",
   "metadata": {},
   "outputs": [
    {
     "name": "stdout",
     "output_type": "stream",
     "text": [
      "4\n"
     ]
    }
   ],
   "source": [
    "sentence=\"i am playing football\"\n",
    "words=sentence.split()\n",
    "count=0\n",
    "for i in words:\n",
    "    count=count+1\n",
    "print(count)"
   ]
  },
  {
   "cell_type": "code",
   "execution_count": null,
   "id": "8b54abf1-726f-4893-a67b-206a0afeb85c",
   "metadata": {},
   "outputs": [],
   "source": []
  },
  {
   "cell_type": "code",
   "execution_count": null,
   "id": "5de31c89-4d7b-48e8-9595-faa60518b136",
   "metadata": {},
   "outputs": [],
   "source": [
    "# 20. Write a Python program to find the sum of all odd numbers from 1 to 50 using a for loop."
   ]
  },
  {
   "cell_type": "code",
   "execution_count": 17,
   "id": "c03f1490-dff4-4d85-8132-372aa41a4e6e",
   "metadata": {},
   "outputs": [
    {
     "name": "stdout",
     "output_type": "stream",
     "text": [
      "625\n"
     ]
    }
   ],
   "source": [
    "sum=0\n",
    "for i in range(1,51):\n",
    "    if i%2!=0:\n",
    "        sum=sum+i\n",
    "print(sum)"
   ]
  },
  {
   "cell_type": "code",
   "execution_count": null,
   "id": "345dfc98-aed6-445a-93d8-fe79dfb0c309",
   "metadata": {},
   "outputs": [],
   "source": []
  },
  {
   "cell_type": "code",
   "execution_count": null,
   "id": "9455e670-58b0-40d7-9f9d-aadfb81b8a07",
   "metadata": {},
   "outputs": [],
   "source": [
    "# 21. Write a Python program that checks if a given year is a leap year using a for loop."
   ]
  },
  {
   "cell_type": "code",
   "execution_count": 99,
   "id": "3ff9bac3-adb7-448a-86f0-21fa45c6c2c4",
   "metadata": {},
   "outputs": [
    {
     "name": "stdout",
     "output_type": "stream",
     "text": [
      "It is leap year\n"
     ]
    }
   ],
   "source": [
    "def islp(y):\n",
    "  if((y % 400 == 0) or\n",
    "     (y % 100 != 0) and\n",
    "     (y % 4 == 0)):\n",
    "    return \"It is leap year\";\n",
    "  else:\n",
    "    return \"it is not leap year .\";\n",
    "\n",
    "if __name__=='__main__':\n",
    " \n",
    "  year = 2024;\n",
    "print(islp(year));\n"
   ]
  },
  {
   "cell_type": "code",
   "execution_count": null,
   "id": "0967f2b3-1636-4ed6-9626-77ac27733659",
   "metadata": {},
   "outputs": [],
   "source": []
  },
  {
   "cell_type": "code",
   "execution_count": null,
   "id": "a669d7a7-c341-46f0-a984-3e10e83abe5c",
   "metadata": {},
   "outputs": [],
   "source": [
    "# 22. Create a Python program that calculates the square root of a number using a for loop."
   ]
  },
  {
   "cell_type": "code",
   "execution_count": 62,
   "id": "24dc41f1-bde0-4ed9-92c1-4ef9e02d44f0",
   "metadata": {},
   "outputs": [
    {
     "name": "stdout",
     "output_type": "stream",
     "text": [
      "2\n"
     ]
    }
   ],
   "source": [
    "num=4\n",
    "for sq in range(int(int((num**0.5))+1)):  \n",
    "     \n",
    "    print(max(range(int(int((num**0.5))+1))))\n",
    "    break;"
   ]
  },
  {
   "cell_type": "code",
   "execution_count": null,
   "id": "7bbfff34-02ca-4076-8bbf-e97c18809d11",
   "metadata": {},
   "outputs": [],
   "source": []
  },
  {
   "cell_type": "code",
   "execution_count": null,
   "id": "d6dfe88d-0975-4987-8037-7b2b2e2e5a24",
   "metadata": {},
   "outputs": [],
   "source": [
    "# 23. Write a Python program to find the LCM (Least Common Multiple) of two numbers using a for loop."
   ]
  },
  {
   "cell_type": "code",
   "execution_count": 13,
   "id": "13006531-90c9-4fbb-8c66-fb1e737f5fd5",
   "metadata": {},
   "outputs": [
    {
     "name": "stdout",
     "output_type": "stream",
     "text": [
      "lcm is  27\n"
     ]
    }
   ],
   "source": [
    "import math \n",
    "a,b=3,27\n",
    "lcm=math.lcm(a,b)\n",
    "print(\"lcm is \",lcm)"
   ]
  },
  {
   "cell_type": "code",
   "execution_count": null,
   "id": "336165ae-def5-4403-832a-397f593905ce",
   "metadata": {},
   "outputs": [],
   "source": []
  },
  {
   "cell_type": "code",
   "execution_count": null,
   "id": "321ce335-12b5-4f4e-b437-a38d253d9af6",
   "metadata": {},
   "outputs": [],
   "source": [
    "# If else :"
   ]
  },
  {
   "cell_type": "code",
   "execution_count": null,
   "id": "f5a0e905-7d2e-48e0-8c15-3b6af7306048",
   "metadata": {},
   "outputs": [],
   "source": [
    "# 1. Write a Python program to check if a number is positive, negative, or zero using an if-else statement."
   ]
  },
  {
   "cell_type": "code",
   "execution_count": 28,
   "id": "5f0e80db-de27-4690-95b4-055af3c814e5",
   "metadata": {},
   "outputs": [
    {
     "name": "stdout",
     "output_type": "stream",
     "text": [
      "The number is positive .\n"
     ]
    }
   ],
   "source": [
    "num=11\n",
    "if(num>0):\n",
    "    print(\"The number is positive .\")\n",
    "else:\n",
    "    if(num<0):\n",
    "        print(\"The number is negative .\")\n",
    "       \n",
    "    else:\n",
    "        print(\"The number is zero .\")\n"
   ]
  },
  {
   "cell_type": "code",
   "execution_count": null,
   "id": "0bf9ecd3-44f8-443b-a8ca-46a74af118a4",
   "metadata": {},
   "outputs": [],
   "source": []
  },
  {
   "cell_type": "code",
   "execution_count": null,
   "id": "4beb0014-6caa-4f0c-a4d5-9d2f5a536d5b",
   "metadata": {},
   "outputs": [],
   "source": [
    "# 2. Create a Python program that checks if a given number is even or odd using an if-else statement."
   ]
  },
  {
   "cell_type": "code",
   "execution_count": 29,
   "id": "1b77f477-b47d-4392-ad11-1590920bcfc0",
   "metadata": {},
   "outputs": [
    {
     "name": "stdout",
     "output_type": "stream",
     "text": [
      "The number is odd .\n"
     ]
    }
   ],
   "source": [
    "num=11\n",
    "if(num%2==0):\n",
    "    print(\"The number is even .\")\n",
    "else:\n",
    "        print(\"The number is odd .\")\n"
   ]
  },
  {
   "cell_type": "code",
   "execution_count": null,
   "id": "1458a023-781e-4b19-b16f-ca6deb9b027b",
   "metadata": {},
   "outputs": [],
   "source": []
  },
  {
   "cell_type": "code",
   "execution_count": null,
   "id": "795c295f-8205-4655-aa02-8acbd3d534e2",
   "metadata": {},
   "outputs": [],
   "source": [
    "# 3. How can you use nested if-else statements in Python, and provide an example?"
   ]
  },
  {
   "cell_type": "code",
   "execution_count": 24,
   "id": "bb15f371-ef44-46c2-bbbf-a53c2b77352d",
   "metadata": {},
   "outputs": [
    {
     "name": "stdout",
     "output_type": "stream",
     "text": [
      "You are an adult.\n"
     ]
    }
   ],
   "source": [
    "''' We can use use nested if-else statements inside if or if statements as follows :-'''\n",
    "age=22\n",
    "\n",
    "if age >= 60:\n",
    "    print(\"You are a senior citizen.\")\n",
    "else:\n",
    "    if age >= 18:\n",
    "        print(\"You are an adult.\")\n",
    "    else:\n",
    "        print(\"You are a teenager.\")"
   ]
  },
  {
   "cell_type": "code",
   "execution_count": null,
   "id": "0e11969c-80e5-44bc-9935-8e29b9affb6d",
   "metadata": {},
   "outputs": [],
   "source": []
  },
  {
   "cell_type": "code",
   "execution_count": null,
   "id": "9b94820d-585b-474f-8f05-d42b2c79fe1e",
   "metadata": {},
   "outputs": [],
   "source": [
    "# 4. Write a Python program to determine the largest of three numbers using if-else."
   ]
  },
  {
   "cell_type": "code",
   "execution_count": 30,
   "id": "dca006b8-c46f-4a5e-8887-e273d7ed93be",
   "metadata": {},
   "outputs": [
    {
     "name": "stdout",
     "output_type": "stream",
     "text": [
      "3 is largest among three numbers.\n"
     ]
    }
   ],
   "source": [
    "a,b,c=1,2,3\n",
    "if(a>b and a>c):\n",
    "    print(f\"{a} is largest among three numbers.\")\n",
    "elif(b>a and b>c):\n",
    "    print(f\"{b} is largest among three numbers.\")      \n",
    "else:\n",
    "    print(f\"{c} is largest among three numbers.\")      \n"
   ]
  },
  {
   "cell_type": "code",
   "execution_count": null,
   "id": "e5bb2e49-f33a-4d27-a4d3-c4b7d9a02e27",
   "metadata": {},
   "outputs": [],
   "source": []
  },
  {
   "cell_type": "code",
   "execution_count": null,
   "id": "c14f7902-2cff-4aa9-9013-b64286922bde",
   "metadata": {},
   "outputs": [],
   "source": [
    "# 5. Write a Python program that calculates the absolute value of a number using if-else."
   ]
  },
  {
   "cell_type": "code",
   "execution_count": 31,
   "id": "eaad9142-c2e5-43ba-8d5a-5f3f0f97f9fc",
   "metadata": {},
   "outputs": [
    {
     "name": "stdout",
     "output_type": "stream",
     "text": [
      "12\n"
     ]
    }
   ],
   "source": [
    "num=-12\n",
    "if(num>=0):\n",
    "    print(num)\n",
    "else:\n",
    "    print(-num)"
   ]
  },
  {
   "cell_type": "code",
   "execution_count": null,
   "id": "61c0d19e-d929-46d3-a1a7-45dc342b7f04",
   "metadata": {},
   "outputs": [],
   "source": []
  },
  {
   "cell_type": "code",
   "execution_count": null,
   "id": "9e772c79-ce98-444b-b68f-740794321750",
   "metadata": {},
   "outputs": [],
   "source": [
    "# 6. Create a Python program that checks if a given character is a vowel or consonant using if-else."
   ]
  },
  {
   "cell_type": "code",
   "execution_count": 35,
   "id": "26dd14e1-2903-4033-8091-47b1e17c2f6c",
   "metadata": {},
   "outputs": [
    {
     "name": "stdout",
     "output_type": "stream",
     "text": [
      "it is consonant.\n"
     ]
    }
   ],
   "source": [
    "char=\"s\"\n",
    "if(char in \"aeiou\"):\n",
    "    print(\"it is vowel.\")\n",
    "else:\n",
    "    print(\"it is consonant.\")"
   ]
  },
  {
   "cell_type": "code",
   "execution_count": null,
   "id": "f4c4a7d3-7c60-4d29-8148-6f8abf70501c",
   "metadata": {},
   "outputs": [],
   "source": []
  },
  {
   "cell_type": "code",
   "execution_count": null,
   "id": "229b95cf-677e-4528-9f32-24029576b1c6",
   "metadata": {},
   "outputs": [],
   "source": [
    "# 7. Write a Python program to determine if a user is eligible to vote based on their age using if-else."
   ]
  },
  {
   "cell_type": "code",
   "execution_count": 40,
   "id": "eb1e63fc-dd1b-46f5-86e2-190b0e5ccb98",
   "metadata": {},
   "outputs": [
    {
     "name": "stdin",
     "output_type": "stream",
     "text": [
      "Enter your age:  19\n"
     ]
    },
    {
     "name": "stdout",
     "output_type": "stream",
     "text": [
      "you are eligible to vote\n"
     ]
    }
   ],
   "source": [
    "age=int(input(\"Enter your age: \"))\n",
    "if(age>=18):\n",
    "    print(\"you are eligible to vote\")\n",
    "else:\n",
    "    print(\"you are not  eligible to vote\")"
   ]
  },
  {
   "cell_type": "code",
   "execution_count": null,
   "id": "2ef1cbc6-63bb-4e99-8be0-c374f1752a7c",
   "metadata": {},
   "outputs": [],
   "source": []
  },
  {
   "cell_type": "code",
   "execution_count": null,
   "id": "d693f6ab-74fb-4329-8fc5-367c217358a6",
   "metadata": {},
   "outputs": [],
   "source": [
    "# 8. Create a Python program that calculates the discount amount based on the purchase amount using if-else."
   ]
  },
  {
   "cell_type": "code",
   "execution_count": 42,
   "id": "e301705c-0c21-4e2d-89a6-bd723d4eee9a",
   "metadata": {},
   "outputs": [
    {
     "name": "stdin",
     "output_type": "stream",
     "text": [
      "Enter Sale Amount:  12000\n"
     ]
    },
    {
     "name": "stdout",
     "output_type": "stream",
     "text": [
      "Discount :  1440.0\n",
      "Net Pay  :  10560.0\n"
     ]
    }
   ],
   "source": [
    "# input sale amount\n",
    "amt = int(input(\"Enter Sale Amount: \"))\n",
    "\n",
    "# checking conditions and calculating discount\n",
    "if(amt>0):\n",
    "    if amt<=5000:\n",
    "       disc = amt*0.05\n",
    "    elif amt<=15000:\n",
    "        disc=amt*0.12\n",
    "    elif amt<=25000:\n",
    "        disc=0.2 * amt\n",
    "    else:\n",
    "         disc=0.3 * amt\n",
    "\n",
    "    print(\"Discount : \",disc)\n",
    "    print(\"Net Pay  : \",amt-disc)\n",
    "else:\n",
    "    print(\"Invalid Amount\")\n"
   ]
  },
  {
   "cell_type": "code",
   "execution_count": null,
   "id": "8b14b1c6-fb03-403f-a524-7c058053af9e",
   "metadata": {},
   "outputs": [],
   "source": []
  },
  {
   "cell_type": "code",
   "execution_count": null,
   "id": "4b8cde93-2348-498d-b71a-1ff1d3311a6d",
   "metadata": {},
   "outputs": [],
   "source": [
    "# 9. Write a Python program to check if a number is within a specified range using if-else."
   ]
  },
  {
   "cell_type": "code",
   "execution_count": 6,
   "id": "88a02ed1-3b30-4d22-97a8-610942ab2c35",
   "metadata": {},
   "outputs": [
    {
     "name": "stdin",
     "output_type": "stream",
     "text": [
      "Enter the number to check number is between 100 and 500:  224\n"
     ]
    },
    {
     "name": "stdout",
     "output_type": "stream",
     "text": [
      "yes, number is in range  (100,500)\n"
     ]
    }
   ],
   "source": [
    "num=int(input(\"Enter the number to check number is between 100 and 500: \"))\n",
    "if(num in range(100,500)):\n",
    "    print(\"yes, number is in range  (100,500)\")\n",
    "else:\n",
    "    print(\"no, number is not range(100,500)\")"
   ]
  },
  {
   "cell_type": "code",
   "execution_count": null,
   "id": "e7b183f6-4b52-414c-849f-1b787711fb28",
   "metadata": {},
   "outputs": [],
   "source": []
  },
  {
   "cell_type": "code",
   "execution_count": null,
   "id": "c8fe26fa-df28-47f5-a914-cdd1e03716c3",
   "metadata": {},
   "outputs": [],
   "source": [
    "# 10. Create a Python program that determines the grade of a student based on their score using if-else."
   ]
  },
  {
   "cell_type": "code",
   "execution_count": 63,
   "id": "ebb90f6e-d5e6-4fd9-bc6c-ebb9638b2c52",
   "metadata": {},
   "outputs": [
    {
     "name": "stdin",
     "output_type": "stream",
     "text": [
      "Enter you score out of 100 :  98\n"
     ]
    },
    {
     "name": "stdout",
     "output_type": "stream",
     "text": [
      "Your Grade is A1\n"
     ]
    }
   ],
   "source": [
    "score=int(input(\"Enter you score out of 100 : \"))\n",
    "\n",
    "\n",
    "if score >= 91 and score <= 100:\n",
    "\tprint(\"Your Grade is A1\")\n",
    "elif score >= 81 and score < 91:\n",
    "\tprint(\"Your Grade is A2\")\n",
    "elif score >= 71 and score < 81:\n",
    "\tprint(\"Your Grade is B1\")\n",
    "elif score >= 61 and score < 71:\n",
    "\tprint(\"Your Grade is B2\")\n",
    "elif score >= 51 and score < 61:\n",
    "\tprint(\"Your Grade is C1\")\n",
    "elif score >= 41 and score < 51:\n",
    "\tprint(\"Your Grade is C2\")\n",
    "elif score >= 33 and score < 41:\n",
    "\tprint(\"Your Grade is D\")\n",
    "elif score >= 21 and score < 33:\n",
    "\tprint(\"Your Grade is E1\")\n",
    "elif score >= 0 and score < 21:\n",
    "\tprint(\"Your Grade is E2\")\n",
    "else:\n",
    "\tprint(\"Invalid Input!\")\n"
   ]
  },
  {
   "cell_type": "code",
   "execution_count": null,
   "id": "6f7534af-3dc7-44de-b196-1076eabecd53",
   "metadata": {},
   "outputs": [],
   "source": []
  },
  {
   "cell_type": "code",
   "execution_count": null,
   "id": "34e1205e-3856-4066-84be-14dac29c3034",
   "metadata": {},
   "outputs": [],
   "source": []
  },
  {
   "cell_type": "code",
   "execution_count": null,
   "id": "ef936c84-a318-4edf-b43f-ef5e735bea45",
   "metadata": {},
   "outputs": [],
   "source": [
    "# 11. Write a Python program to check if a string is empty or not using if-else."
   ]
  },
  {
   "cell_type": "code",
   "execution_count": 38,
   "id": "6cff84b1-a7fd-436d-91bb-9aba546ff7b4",
   "metadata": {},
   "outputs": [
    {
     "name": "stdout",
     "output_type": "stream",
     "text": [
      "The string is empty.\n"
     ]
    }
   ],
   "source": [
    "test_str = \"\"\n",
    " \n",
    "# Checking if the string is empty\n",
    "if not bool(test_str):\n",
    "    print(\"The string is empty.\")\n",
    "else:\n",
    "    print(\"The string is not empty.\")"
   ]
  },
  {
   "cell_type": "code",
   "execution_count": null,
   "id": "d4730950-8f33-4612-98d9-f7e438b54ffc",
   "metadata": {},
   "outputs": [],
   "source": [
    "# 12. Create a Python program that identifies the type of a triangle (e.g., equilateral, isosceles, or scalene) based on input values using if-else."
   ]
  },
  {
   "cell_type": "code",
   "execution_count": 27,
   "id": "9bd3ec2b-4915-4e46-ab9d-e5ec2577cf85",
   "metadata": {},
   "outputs": [
    {
     "name": "stdin",
     "output_type": "stream",
     "text": [
      "Enter the value of 1st side : 2\n",
      "Enter the value of 2nd side : 2\n",
      "Enter the value of 3rd side : 4\n"
     ]
    },
    {
     "name": "stdout",
     "output_type": "stream",
     "text": [
      "It is isoceles  triangle .\n"
     ]
    }
   ],
   "source": [
    "a=int(input(\"Enter the value of 1st side :\"))\n",
    "b=int(input(\"Enter the value of 2nd side :\"))\n",
    "c=int(input(\"Enter the value of 3rd side :\"))\n",
    "if(a==b==c):\n",
    "    print(\"It is equilateral triangle .\")\n",
    "else:\n",
    "    if(a !=b !=c):\n",
    "        print(\"It is scalene triangle .\")\n",
    "    else:\n",
    "        print(\"It is isoceles  triangle .\")"
   ]
  },
  {
   "cell_type": "code",
   "execution_count": null,
   "id": "4b9ee4b1-a006-464a-8127-cb92dca68da5",
   "metadata": {},
   "outputs": [],
   "source": []
  },
  {
   "cell_type": "code",
   "execution_count": null,
   "id": "b11f56d5-2107-447d-88e7-4eaee146951b",
   "metadata": {},
   "outputs": [],
   "source": [
    "# 13. Write a Python program to determine the day of the week based on a user-provided number using if-else."
   ]
  },
  {
   "cell_type": "code",
   "execution_count": 30,
   "id": "0bc28745-73b8-40b5-b7a4-cd01114e038d",
   "metadata": {},
   "outputs": [
    {
     "name": "stdin",
     "output_type": "stream",
     "text": [
      "Enter the day number : 3\n"
     ]
    },
    {
     "name": "stdout",
     "output_type": "stream",
     "text": [
      "WEDNESDAY\n"
     ]
    }
   ],
   "source": [
    "day_number=int(input(\"Enter the day number :\"))\n",
    "if(day_number==1):\n",
    "    print(\"MONDAY\")\n",
    "elif(day_number==2):\n",
    "     print(\"TUESDAY\")\n",
    "elif(day_number==3):\n",
    "     print(\"WEDNESDAY\")\n",
    "elif(day_number==4):\n",
    "     print(\"THRUSDAY\")\n",
    "elif(day_number==5):\n",
    "     print(\"FRIDAY\")\n",
    "elif(day_number==6):\n",
    "     print(\"SATURDAY\")\n",
    "elif(day_number==7):\n",
    "     print(\"SUNDAY\")"
   ]
  },
  {
   "cell_type": "code",
   "execution_count": null,
   "id": "f5c34513-8bdc-44ea-b675-2b6a8a54033e",
   "metadata": {},
   "outputs": [],
   "source": []
  },
  {
   "cell_type": "code",
   "execution_count": null,
   "id": "b267505a-f8ab-4ac5-a8b4-1ad97f30e28b",
   "metadata": {},
   "outputs": [],
   "source": [
    "# 14. Create a Python program that checks if a given year is a leap year using both if-else and a function."
   ]
  },
  {
   "cell_type": "code",
   "execution_count": 15,
   "id": "d05ff78b-1c6b-414f-abb1-85a2662adecb",
   "metadata": {},
   "outputs": [
    {
     "name": "stdin",
     "output_type": "stream",
     "text": [
      "Enter the year : 1600\n"
     ]
    },
    {
     "name": "stdout",
     "output_type": "stream",
     "text": [
      "It is a leap year .\n"
     ]
    }
   ],
   "source": [
    "\n",
    "# Using if-else\n"
   ]
  },
  {
   "cell_type": "code",
   "execution_count": 20,
   "id": "c7acea65-aea3-4678-b191-a5982f7f8fc4",
   "metadata": {},
   "outputs": [],
   "source": [
    "# Using functions\n",
    "def checkleap(y):\n",
    "       \n",
    "    if(str(y).endswith('00')):\n",
    "        if(y%400==0 ):\n",
    "             return (\"It is a leap year .\")\n",
    "        else:\n",
    "             return(\"It is not a leap year .\")\n",
    "    else:\n",
    "        if(y%4==0):\n",
    "            return(\"It is leap year .\")\n",
    "        else:\n",
    "            return(\"It is not a leap year .\")\n"
   ]
  },
  {
   "cell_type": "code",
   "execution_count": 21,
   "id": "bf9c192d-5ce6-4520-bf5c-c7c69eb86f21",
   "metadata": {},
   "outputs": [
    {
     "name": "stdout",
     "output_type": "stream",
     "text": [
      "It is leap year .\n"
     ]
    }
   ],
   "source": [
    "print(checkleap(2004))"
   ]
  },
  {
   "cell_type": "code",
   "execution_count": null,
   "id": "e0a6054c-3f28-4c9e-b147-2fbdceae46a7",
   "metadata": {},
   "outputs": [],
   "source": []
  },
  {
   "cell_type": "code",
   "execution_count": null,
   "id": "dc3fc9cd-82ba-4ce8-a503-37302614d7e7",
   "metadata": {},
   "outputs": [],
   "source": [
    "# 15. How do you use the \"assert\" statement in Python to add debugging checks within if-else blocks?"
   ]
  },
  {
   "cell_type": "code",
   "execution_count": 15,
   "id": "01a20d25-d0d8-444a-a164-e795330e509d",
   "metadata": {},
   "outputs": [
    {
     "name": "stdout",
     "output_type": "stream",
     "text": [
      "The value of a / b is : \n"
     ]
    },
    {
     "ename": "AssertionError",
     "evalue": "Zero Division Error",
     "output_type": "error",
     "traceback": [
      "\u001b[0;31m---------------------------------------------------------------------------\u001b[0m",
      "\u001b[0;31mAssertionError\u001b[0m                            Traceback (most recent call last)",
      "Cell \u001b[0;32mIn[15], line 10\u001b[0m\n\u001b[1;32m      8\u001b[0m \u001b[38;5;66;03m# using assert to check for 0\u001b[39;00m\n\u001b[1;32m      9\u001b[0m \u001b[38;5;28mprint\u001b[39m(\u001b[38;5;124m\"\u001b[39m\u001b[38;5;124mThe value of a / b is : \u001b[39m\u001b[38;5;124m\"\u001b[39m)\n\u001b[0;32m---> 10\u001b[0m \u001b[38;5;28;01massert\u001b[39;00m b \u001b[38;5;241m!=\u001b[39m \u001b[38;5;241m0\u001b[39m, \u001b[38;5;124m\"\u001b[39m\u001b[38;5;124mZero Division Error\u001b[39m\u001b[38;5;124m\"\u001b[39m\n\u001b[1;32m     11\u001b[0m \u001b[38;5;28mprint\u001b[39m(a \u001b[38;5;241m/\u001b[39m b)\n",
      "\u001b[0;31mAssertionError\u001b[0m: Zero Division Error"
     ]
    }
   ],
   "source": [
    "'''assert staatement takes as input a boolean condition, which when returns true doesn’t do anything and continues the normal flow of execution, but if it is computed to be false,\n",
    "then it raises an AssertionError along with the optional message provided. '''\n",
    "\n",
    "# initializing number\n",
    "a = 4\n",
    "b = 0\n",
    "\n",
    "# using assert to check for 0\n",
    "print(\"The value of a / b is : \")\n",
    "assert b != 0, \"Zero Division Error\"\n",
    "print(a / b)\n"
   ]
  },
  {
   "cell_type": "code",
   "execution_count": null,
   "id": "28c52ba9-1c28-47fa-9557-9fb100ed4aa7",
   "metadata": {},
   "outputs": [],
   "source": []
  },
  {
   "cell_type": "code",
   "execution_count": null,
   "id": "4cb87ad3-b5b3-463d-870f-edfdced2520f",
   "metadata": {},
   "outputs": [],
   "source": [
    "# 16. Create a Python program that determines the eligibility of a person for a senior citizen discount based on age using if-else."
   ]
  },
  {
   "cell_type": "code",
   "execution_count": 32,
   "id": "ed64b2f6-9f0e-4235-9e3f-31b6405df441",
   "metadata": {},
   "outputs": [
    {
     "name": "stdin",
     "output_type": "stream",
     "text": [
      "Enter your age:  67\n"
     ]
    },
    {
     "name": "stdout",
     "output_type": "stream",
     "text": [
      "you are eligible for senior citizen discount \n"
     ]
    }
   ],
   "source": [
    "age=int(input(\"Enter your age: \"))\n",
    "if(age>=65):\n",
    "    print(\"you are eligible for senior citizen discount \")\n",
    "else:\n",
    "    print(\"you are not  eligible  for senior citizen discount \")"
   ]
  },
  {
   "cell_type": "code",
   "execution_count": null,
   "id": "c3bf42a8-b7c5-4274-abef-24ea3cbc177e",
   "metadata": {},
   "outputs": [],
   "source": []
  },
  {
   "cell_type": "code",
   "execution_count": null,
   "id": "8ee39cd3-9ab0-4b48-89fc-c2f62abd5645",
   "metadata": {},
   "outputs": [],
   "source": [
    "# 17. Write a Python program to categorize a given character as uppercase, lowercase, or neither using if-else."
   ]
  },
  {
   "cell_type": "code",
   "execution_count": 39,
   "id": "f5e09730-6e57-4ec6-91b4-bdb56e51fa10",
   "metadata": {},
   "outputs": [
    {
     "name": "stdin",
     "output_type": "stream",
     "text": [
      "Enter the character : $\n"
     ]
    },
    {
     "name": "stdout",
     "output_type": "stream",
     "text": [
      "character is neither uppercase nor lowercase.\n"
     ]
    }
   ],
   "source": [
    "char=input(\"Enter the character :\")\n",
    "\n",
    "if char.isupper():\n",
    "    print( \"character is  uppercase\")\n",
    "elif char.islower():\n",
    "    print( \"character is lowercase\")\n",
    "else :\n",
    "    print( \"character is neither uppercase nor lowercase.\")"
   ]
  },
  {
   "cell_type": "code",
   "execution_count": null,
   "id": "6580aa06-312c-495e-839b-a4bdad577bda",
   "metadata": {},
   "outputs": [],
   "source": []
  },
  {
   "cell_type": "code",
   "execution_count": null,
   "id": "ac2b9f82-c6a8-4e41-bbdd-b516e56ea749",
   "metadata": {},
   "outputs": [],
   "source": [
    "18. Write a Python program to determine the roots of a quadratic equation using if-else."
   ]
  },
  {
   "cell_type": "code",
   "execution_count": 23,
   "id": "f9323e15-0c50-4571-a34e-a8ea69d08cb9",
   "metadata": {},
   "outputs": [
    {
     "name": "stdin",
     "output_type": "stream",
     "text": [
      "Enter a ,which is coefficient of x^2: 1\n",
      "Enter b ,which is coefficient of x: 3\n",
      "Enter c ,,which is constant term : 2\n"
     ]
    },
    {
     "name": "stdout",
     "output_type": "stream",
     "text": [
      " real and different roots \n",
      "-1.0\n",
      "-2.0\n"
     ]
    }
   ],
   "source": [
    "# Python program to find roots of quadratic equation  \n",
    "import math  \n",
    "  \n",
    "  \n",
    "# function for finding roots  \n",
    "def findRoots(a, b, c):  \n",
    "  \n",
    "    dis_form = b * b - 4 * a * c  \n",
    "    sqrt_val = math.sqrt(abs(dis_form))  \n",
    "  \n",
    "  \n",
    "    if dis_form > 0:  \n",
    "        print(\" real and different roots \")  \n",
    "        print((-b + sqrt_val) / (2 * a))  \n",
    "        print((-b - sqrt_val) / (2 * a))  \n",
    "  \n",
    "    elif dis_form == 0:  \n",
    "        print(\" real and same roots\")  \n",
    "        print(-b / (2 * a))  \n",
    "  \n",
    "  \n",
    "    else:  \n",
    "        print(\"Complex Roots\")  \n",
    "        print(- b / (2 * a), \" + i\", sqrt_val)  \n",
    "        print(- b / (2 * a), \" - i\", sqrt_val)  \n",
    "  \n",
    "  \n",
    "a = int(input('Enter a ,which is coefficient of x^2:'))  \n",
    "b = int(input('Enter b ,which is coefficient of x:'))  \n",
    "c = int(input('Enter c ,,which is constant term :'))  \n",
    "  \n",
    "# If a is 0, then incorrect equation  \n",
    "if a == 0:  \n",
    "    print(\"Input correct quadratic equation\")  \n",
    "  \n",
    "else:  \n",
    "    findRoots(a, b, c)  "
   ]
  },
  {
   "cell_type": "code",
   "execution_count": null,
   "id": "4eb3061a-caa2-4af3-8c8f-eb3bdc125b07",
   "metadata": {},
   "outputs": [],
   "source": [
    "# 19. Create a Python program that checks if a given year is a century year or not using if-else."
   ]
  },
  {
   "cell_type": "code",
   "execution_count": 42,
   "id": "ad990b8e-c640-4687-a6cc-4653ead0c295",
   "metadata": {},
   "outputs": [
    {
     "name": "stdin",
     "output_type": "stream",
     "text": [
      "Enter year ;  2000\n"
     ]
    },
    {
     "name": "stdout",
     "output_type": "stream",
     "text": [
      "it is century year .\n"
     ]
    }
   ],
   "source": [
    "year=int(input(\"Enter year ; \"))\n",
    "if year%100==0:\n",
    "    print(\"it is century year .\")\n",
    "else:\n",
    "     print(\"it is not a century year .\")"
   ]
  },
  {
   "cell_type": "code",
   "execution_count": null,
   "id": "5a1dcfee-3c2f-43cd-9552-49cefb7bd0ff",
   "metadata": {},
   "outputs": [],
   "source": []
  },
  {
   "cell_type": "code",
   "execution_count": null,
   "id": "8bf74fff-c9d6-48ec-8186-01021420d9d0",
   "metadata": {},
   "outputs": [],
   "source": [
    "# 20. Write a Python program to determine if a given number is a perfect square using if-else."
   ]
  },
  {
   "cell_type": "code",
   "execution_count": 4,
   "id": "4851996f-bdd5-4ed1-807e-25a3e7c82234",
   "metadata": {},
   "outputs": [
    {
     "name": "stdout",
     "output_type": "stream",
     "text": [
      "The number is a perfect square\n"
     ]
    }
   ],
   "source": [
    "import math  \n",
    "num = 16\n",
    "sqrt_num = math.sqrt(num)  \n",
    "if sqrt_num.is_integer():  \n",
    "    print(\"The number is a perfect square\")  \n",
    "else:  \n",
    "    print(\"The number is not a perfect square\")  \n"
   ]
  },
  {
   "cell_type": "code",
   "execution_count": null,
   "id": "b1f58104-1eaf-47a5-b5fd-4aed93777d30",
   "metadata": {},
   "outputs": [],
   "source": []
  },
  {
   "cell_type": "code",
   "execution_count": null,
   "id": "35968d08-c4cc-4cb1-a12f-6d3ac07ddfd7",
   "metadata": {},
   "outputs": [],
   "source": [
    "# 21. Explain the purpose of the \"continue\" and \"break\" statements within if-else loops."
   ]
  },
  {
   "cell_type": "code",
   "execution_count": null,
   "id": "e4218f51-d908-4229-8168-a57059f5de7d",
   "metadata": {},
   "outputs": [],
   "source": [
    "'''The break statement is used to terminate the loop immediately.if particuar condition becomes true then immediately iteration stops and process stops and come out of \n",
    "loop.\n",
    "The continue statement is used to skip the current iteration of the loop.'''"
   ]
  },
  {
   "cell_type": "code",
   "execution_count": null,
   "id": "5a5c3907-7598-4159-aa7d-fc3302ecac88",
   "metadata": {},
   "outputs": [],
   "source": []
  },
  {
   "cell_type": "code",
   "execution_count": null,
   "id": "232b5e1f-07a6-4b9c-8297-2068f77d7c67",
   "metadata": {},
   "outputs": [],
   "source": [
    "# 22. Create a Python program that calculates the BMI (Body Mass Index) of a person based on their weight and height using if-else."
   ]
  },
  {
   "cell_type": "code",
   "execution_count": 57,
   "id": "9995d5f9-6e3c-48ff-8744-95f7dd36ea56",
   "metadata": {},
   "outputs": [
    {
     "name": "stdin",
     "output_type": "stream",
     "text": [
      "Enter weight in kgs:  79\n",
      "Enter height in metres:  1.92\n"
     ]
    },
    {
     "name": "stdout",
     "output_type": "stream",
     "text": [
      "Normal\n"
     ]
    }
   ],
   "source": [
    "w=float(input(\"Enter weight in kgs: \"))\n",
    "h=float(input(\"Enter height in metres: \"))\n",
    "bmi=(w)/(h)**2\n",
    "if bmi < 18.5:\n",
    "    print('Underweight')\n",
    "if bmi>=18.5 and bmi<25:\n",
    "    print(\"Normal\")\n",
    "if bmi>= 25 and  bmi< 30:\n",
    "   print('Overweight')\n",
    "if bmi>= 30:\n",
    "   print('Obesity')"
   ]
  },
  {
   "cell_type": "code",
   "execution_count": null,
   "id": "fe843dd9-87ee-4040-ac58-48e8e9740a09",
   "metadata": {},
   "outputs": [],
   "source": []
  },
  {
   "cell_type": "code",
   "execution_count": null,
   "id": "2e95cac4-65a4-4222-9b9f-c06606b02f89",
   "metadata": {},
   "outputs": [],
   "source": [
    "# 23. How can you use the \"filter()\" function with if-else statements to filter elements from a list?"
   ]
  },
  {
   "cell_type": "code",
   "execution_count": 27,
   "id": "43d4e18f-0694-420c-bba9-2802f9c4f546",
   "metadata": {},
   "outputs": [
    {
     "name": "stdout",
     "output_type": "stream",
     "text": [
      "[1, 3, 5, 7, 44, 46, 56, 78]\n"
     ]
    }
   ],
   "source": [
    "# Here we have filtered on the basis of getting  got  single odd digit  no.s and double digit even no.s\n",
    "lists=[1,2,3,4,5,6,7,8,23,44,45,46,56,23,78]\n",
    "filter_list=list(filter(lambda a: a%2==0 if len(str(a))==2 else a%2!=0 ,lists))\n",
    "print(filter_list)"
   ]
  },
  {
   "cell_type": "code",
   "execution_count": null,
   "id": "e4173180-2b0c-476d-a068-d7535c44ebbf",
   "metadata": {},
   "outputs": [],
   "source": []
  },
  {
   "cell_type": "code",
   "execution_count": null,
   "id": "82f9f798-bc7e-4235-aa24-a93180b26e21",
   "metadata": {},
   "outputs": [],
   "source": [
    "# 24. Write a Python program to determine if a given number is prime or not using if-else."
   ]
  },
  {
   "cell_type": "code",
   "execution_count": null,
   "id": "31f4b3fc-d8e2-43f6-a9bb-cc5e2eaa37db",
   "metadata": {},
   "outputs": [],
   "source": [
    "n = 6\n",
    "\n",
    "# Check if the number is greater than 1\n",
    "\n",
    "if n > 1:\n",
    "\tfor i in range(2, int(n/2)+1):\n",
    "\t\tif (n % i) == 0:\n",
    "\t\t\tprint(n, \"is not a prime number\")\n",
    "\t\tbreak\n",
    "\telse:\n",
    "\t\tprint(n, \"is a prime number\")\n",
    "# If the number is less than 1, its also not a prime number.\n",
    "else:\n",
    "\tprint(n, \"is not a prime number\")"
   ]
  },
  {
   "cell_type": "code",
   "execution_count": null,
   "id": "08d44500-812a-4b2e-b1f8-ec1874f4393f",
   "metadata": {},
   "outputs": [],
   "source": []
  },
  {
   "cell_type": "code",
   "execution_count": null,
   "id": "a881bceb-da5b-4666-bbbd-1016dc0684a5",
   "metadata": {},
   "outputs": [],
   "source": []
  },
  {
   "cell_type": "code",
   "execution_count": null,
   "id": "50f33dcd-4d7b-478e-8ef0-48c7ae2cf0c4",
   "metadata": {},
   "outputs": [],
   "source": []
  },
  {
   "cell_type": "code",
   "execution_count": null,
   "id": "f9cba5a5-8718-4e15-b7ae-91c3441cfa0f",
   "metadata": {},
   "outputs": [],
   "source": [
    "# Map :-"
   ]
  },
  {
   "cell_type": "code",
   "execution_count": null,
   "id": "011090c0-6940-4c45-809d-ab1883ebd5db",
   "metadata": {},
   "outputs": [],
   "source": [
    "# 1. Explain the purpose of the `map()` function in Python and provide an example of how it can be used to apply a function to each element of an iterable."
   ]
  },
  {
   "cell_type": "code",
   "execution_count": 28,
   "id": "e3bf6e3f-b67a-4c40-9218-ce8a892b9a5e",
   "metadata": {},
   "outputs": [
    {
     "name": "stdout",
     "output_type": "stream",
     "text": [
      "[1, 1024, 59049, 1048576, 9765625, 60466176]\n"
     ]
    }
   ],
   "source": [
    "'''map() function is used  to map each element of  iterable which means we generate new elements on taking each element \n",
    "of iterable and applying common operation is function passed inside map().We get new return value of operation performed\n",
    "in each iterable'''\n",
    "\n",
    "l=[1,2,3,4,5,6]\n",
    "squared_l=list(map(lambda a:a**10,l))\n",
    "print(squared_l)\n",
    "'''Here we get list with elements having  return value of each element of iterable(her eit is list) raised to power 10 "
   ]
  },
  {
   "cell_type": "code",
   "execution_count": null,
   "id": "6c4d7321-3564-4627-b2a8-a285a4244dce",
   "metadata": {},
   "outputs": [],
   "source": []
  },
  {
   "cell_type": "code",
   "execution_count": null,
   "id": "6af46f29-4451-4d75-86fa-3b0c098b9167",
   "metadata": {},
   "outputs": [],
   "source": [
    "# 2. Write a Python program that uses the `map()` function to square each element of a list of numbers."
   ]
  },
  {
   "cell_type": "code",
   "execution_count": 40,
   "id": "e428c7b6-61f0-40f6-8b1f-2f5fd6bd2201",
   "metadata": {},
   "outputs": [
    {
     "name": "stdout",
     "output_type": "stream",
     "text": [
      "[1, 4, 9, 16, 25, 36]\n"
     ]
    }
   ],
   "source": [
    "l=[1,2,3,4,5,6]\n",
    "squared_l=list(map(lambda a:a**2 ,l))\n",
    "print(squared_l)"
   ]
  },
  {
   "cell_type": "code",
   "execution_count": null,
   "id": "ae5bb6ec-c32e-4914-a3bc-ccf4009e589d",
   "metadata": {},
   "outputs": [],
   "source": []
  },
  {
   "cell_type": "code",
   "execution_count": null,
   "id": "cde4aba0-f9e1-4713-bd73-d1aed311c9a9",
   "metadata": {},
   "outputs": [],
   "source": [
    "# 3. How does the `map()` function differ from a list comprehension in Python, and when would you choose one over the other?"
   ]
  },
  {
   "cell_type": "code",
   "execution_count": null,
   "id": "36a04b67-1119-4a21-9602-fc2f342ef0e1",
   "metadata": {},
   "outputs": [],
   "source": [
    "''' map() is used to apply the operation on element of iterable(say list) and get new iterable with new elements based\n",
    "on the operational  return value function  applied inside map() . You can pass as many iterable as you like to map() function in Python.\n",
    "'''\n",
    "'''For example '''\n",
    "l=[1,2,3,4,5,6]\n",
    "\n",
    "squared_l=list(map(lambda a:a**2 ,l))\n",
    "\n",
    "print(\"Output through map :\",squared_l)\n",
    "\n",
    "Output through map :  [1, 4, 9, 16, 25, 36]\n",
    "\n",
    "\n",
    "'''whereas in case of list comprehension we generate a list with elements based on the conditions  where elements are \n",
    "the result of output generated through condition and for loop is also used in it .'''\n",
    "\n",
    "\n",
    "li=[x for x in range(1,10) if x%2==0 ]\n",
    "print(\"Output through list-comprehension :\",li)\n",
    "\n",
    "Output through list-comprehension : [2, 4, 6, 8]\n",
    "\n",
    "\n",
    "\n",
    "'''I will choose map()  :'''\n",
    "\n",
    "'''when i want to get a list based on  elements present in other list  and generated new list with common operation on \n",
    "on each element of other list elements \n",
    " You can pass as many iterable as you like to map() function in Python.\n",
    "'''\n",
    "                                                       \n",
    "\n",
    "    \n",
    "    '''i will choose list comprehension  :'''\n",
    "\n",
    "when  i want to generate a list from scratch based on condition that each element generated will satisfy along will for loop specifying the \n",
    "range of elements generated.'''"
   ]
  },
  {
   "cell_type": "code",
   "execution_count": null,
   "id": "85e41340-74c8-483b-b9b1-58ef6f6a8c69",
   "metadata": {},
   "outputs": [],
   "source": []
  },
  {
   "cell_type": "code",
   "execution_count": null,
   "id": "c8d5478d-e8b5-463b-aeb6-38d73b514e7d",
   "metadata": {},
   "outputs": [],
   "source": [
    "# 4. Create a Python program that uses the `map()` function to convert a list of names to uppercase."
   ]
  },
  {
   "cell_type": "code",
   "execution_count": 41,
   "id": "6c0884ad-f439-4a2e-9ff3-932a75058414",
   "metadata": {},
   "outputs": [
    {
     "name": "stdout",
     "output_type": "stream",
     "text": [
      "['SIDDHARTH', 'PRASHANT', 'SHUBHAM', 'DIVYA']\n"
     ]
    }
   ],
   "source": [
    "l=[\"siddharth\",\"prashant\",\"shubham\",\"divya\"]\n",
    "upper_l=list(map(lambda a:a.upper() ,l))\n",
    "print(upper_l)"
   ]
  },
  {
   "cell_type": "code",
   "execution_count": null,
   "id": "6d24d8b6-407f-4a40-8239-26092ffbed0a",
   "metadata": {},
   "outputs": [],
   "source": []
  },
  {
   "cell_type": "code",
   "execution_count": null,
   "id": "b23bbdbd-ed83-411d-87fd-6bf260cee4f4",
   "metadata": {},
   "outputs": [],
   "source": [
    "# 5. Write a Python program that uses the `map()` function to calculate the length of each word in a list of strings."
   ]
  },
  {
   "cell_type": "code",
   "execution_count": 42,
   "id": "e7ef953c-ecad-40b7-a246-6233e97b039d",
   "metadata": {},
   "outputs": [
    {
     "name": "stdout",
     "output_type": "stream",
     "text": [
      "[1, 2, 7, 3]\n"
     ]
    }
   ],
   "source": [
    "l=[\"I\",\"am\",\"playing\",\"now\"]\n",
    "l_with_len=list(map(lambda a:len(a) ,l))\n",
    "print(l_with_len)"
   ]
  },
  {
   "cell_type": "code",
   "execution_count": null,
   "id": "b1a4d255-ee78-40f0-9aa0-6f1ec96b700c",
   "metadata": {},
   "outputs": [],
   "source": []
  },
  {
   "cell_type": "code",
   "execution_count": null,
   "id": "f07cdae3-9f15-481b-837c-0be2879d4f80",
   "metadata": {},
   "outputs": [],
   "source": [
    "# 6. How can you use the `map()` function to apply a custom function to elements of multiple lists simultaneously in Python?"
   ]
  },
  {
   "cell_type": "code",
   "execution_count": 50,
   "id": "50bd1f3b-5967-4fe7-86aa-9e71305fe549",
   "metadata": {},
   "outputs": [
    {
     "name": "stdout",
     "output_type": "stream",
     "text": [
      "[3, 7, 11, 15]\n"
     ]
    }
   ],
   "source": [
    "# Python program to demonstrate\n",
    "# passing of multiple iterable arguments to map()\n",
    "# using 2 lists\n",
    " \n",
    "# Function which return sum of 2 numbers\n",
    "def sum(a,b):\n",
    "    return a+b\n",
    " \n",
    "# list 1\n",
    "lst1=[2,4,6,8]\n",
    " \n",
    "# list 2\n",
    "lst2=[1,3,5,7]\n",
    " \n",
    "#  Here lst1 and ls2 elements are arguments a and b respectively and function is applied on each  \n",
    "result=list(map(sum,lst1,lst2))\n",
    "print(result)"
   ]
  },
  {
   "cell_type": "code",
   "execution_count": null,
   "id": "32a512fa-8384-41e9-a903-ed8231200c10",
   "metadata": {},
   "outputs": [],
   "source": []
  },
  {
   "cell_type": "code",
   "execution_count": null,
   "id": "f9fbbef2-2a77-4c4e-8e9c-ce38e3d36b34",
   "metadata": {},
   "outputs": [],
   "source": [
    "# 7. Create a Python program that uses `map()` to convert a list of temperatures from Celsius to Fahrenheit."
   ]
  },
  {
   "cell_type": "code",
   "execution_count": 49,
   "id": "7d52958d-3e46-4752-9f52-6371383d2c01",
   "metadata": {},
   "outputs": [
    {
     "name": "stdout",
     "output_type": "stream",
     "text": [
      "[50.0, 68.0, 89.6, 96.8, 104.0]\n"
     ]
    }
   ],
   "source": [
    "celcius=[10,20,32,36,40]\n",
    "fahrenheit=list(map(lambda c: (9/5)*c +32 ,celcius))\n",
    "print(fahrenheit)"
   ]
  },
  {
   "cell_type": "code",
   "execution_count": null,
   "id": "c6e49266-7852-4ccc-b71e-d51fdec36816",
   "metadata": {},
   "outputs": [],
   "source": [
    "# 8. Write a Python program that uses the `map()` function to round each element of a list of floating-point numbers to the nearest integer."
   ]
  },
  {
   "cell_type": "code",
   "execution_count": 71,
   "id": "2fa92e0c-4f56-4e29-ad31-ecbe77d9f34b",
   "metadata": {},
   "outputs": [
    {
     "name": "stdout",
     "output_type": "stream",
     "text": [
      "[50, 68, 90, 96, 105]\n"
     ]
    }
   ],
   "source": [
    "l=[50.1, 68.3, 89.6, 96.4, 104.9]\n",
    "fahrenheit=list(map(lambda c : int(c) if 0<=float(c-int(c))<0.5  else int(c+1) ,l))\n",
    "print(fahrenheit)"
   ]
  },
  {
   "cell_type": "code",
   "execution_count": null,
   "id": "054ef4dd-bc6b-4eab-9b03-20b2ef1e9948",
   "metadata": {},
   "outputs": [],
   "source": []
  },
  {
   "cell_type": "code",
   "execution_count": null,
   "id": "a23d600b-526c-4d1d-9ae3-02319ceaa3c6",
   "metadata": {},
   "outputs": [],
   "source": []
  },
  {
   "cell_type": "code",
   "execution_count": null,
   "id": "de66b903-b94b-4503-b9f8-b5d0c75bb688",
   "metadata": {},
   "outputs": [],
   "source": [
    "# Reduce :-\n",
    "# 1. What is the `reduce()` function in Python, and what module should you import to use it? Provide an example of its basic usage."
   ]
  },
  {
   "cell_type": "code",
   "execution_count": 18,
   "id": "dbc55cea-f28a-471b-9b46-78288b9551a0",
   "metadata": {},
   "outputs": [
    {
     "name": "stdout",
     "output_type": "stream",
     "text": [
      "10\n"
     ]
    }
   ],
   "source": [
    "'''Python's reduce() is a function that implements a mathematical technique called folding or reduction.\n",
    "reduce() is useful when you need to apply a function to an iterable and reduce it to a single cumulative value.\n",
    "We can import it through module named functools.'''\n",
    "# Example:\n",
    "from functools import reduce \n",
    "l=[1,2,3,4]\n",
    "sumof_l= reduce(lambda a,b:a+b,l)\n",
    "print(sumof_l)\n",
    "    "
   ]
  },
  {
   "cell_type": "code",
   "execution_count": null,
   "id": "65f2aa0d-b847-445c-8d39-8d58a889631e",
   "metadata": {},
   "outputs": [],
   "source": []
  },
  {
   "cell_type": "code",
   "execution_count": null,
   "id": "f252af74-cad6-4ab4-8c12-87d6ea796f9e",
   "metadata": {},
   "outputs": [],
   "source": [
    "# 2. Write a Python program that uses the `reduce()` function to find the product of all elements in a list."
   ]
  },
  {
   "cell_type": "code",
   "execution_count": 72,
   "id": "d48cc3cb-0b70-444b-a835-f03339bc2c9a",
   "metadata": {},
   "outputs": [
    {
     "name": "stdout",
     "output_type": "stream",
     "text": [
      "24\n"
     ]
    }
   ],
   "source": [
    "from functools import reduce\n",
    "l=[1,2,3,4]\n",
    "prod=reduce(lambda a,b:a*b ,l)\n",
    "print(prod)\n"
   ]
  },
  {
   "cell_type": "code",
   "execution_count": null,
   "id": "3a588093-5bc9-49a2-8192-14ed0d5b4fab",
   "metadata": {},
   "outputs": [],
   "source": []
  },
  {
   "cell_type": "code",
   "execution_count": null,
   "id": "ac3c8676-b81f-448d-ab69-267f00b21f0d",
   "metadata": {},
   "outputs": [],
   "source": [
    "# 3. Create a Python program that uses `reduce()` to find the maximum element in a list of numbers."
   ]
  },
  {
   "cell_type": "code",
   "execution_count": 73,
   "id": "6e141caf-9327-4506-9e83-1a2f39c1cfe3",
   "metadata": {},
   "outputs": [
    {
     "name": "stdout",
     "output_type": "stream",
     "text": [
      "4\n"
     ]
    }
   ],
   "source": [
    "from functools import reduce\n",
    "l=[1,2,3,4]\n",
    "maximum=reduce(lambda a,b:a if a>b else b ,l)\n",
    "print(maximum)\n"
   ]
  },
  {
   "cell_type": "code",
   "execution_count": null,
   "id": "cfd59e16-aeb8-4d25-858d-0009970a5ec9",
   "metadata": {},
   "outputs": [],
   "source": []
  },
  {
   "cell_type": "code",
   "execution_count": null,
   "id": "8b1f947b-c21e-40d0-90c2-f71a47702f81",
   "metadata": {},
   "outputs": [],
   "source": [
    "# 4. How can you use the `reduce()` function to concatenate a list of strings into a single string?"
   ]
  },
  {
   "cell_type": "code",
   "execution_count": 23,
   "id": "a9892f34-c70e-4fd0-bd5f-3170052a25da",
   "metadata": {},
   "outputs": [
    {
     "name": "stdout",
     "output_type": "stream",
     "text": [
      "I am playing now\n"
     ]
    }
   ],
   "source": [
    "l=[\"I \",\"am \",\"playing \",\"now\"]\n",
    "string=reduce(lambda a,b:a+b,l)\n",
    "print(string)"
   ]
  },
  {
   "cell_type": "code",
   "execution_count": null,
   "id": "63d13452-2def-4d1d-b953-f76328499847",
   "metadata": {},
   "outputs": [],
   "source": []
  },
  {
   "cell_type": "code",
   "execution_count": null,
   "id": "73215c9e-dbac-449a-b19e-6ce9b967d7b2",
   "metadata": {},
   "outputs": [],
   "source": [
    "# 5. Write a Python program that calculates the factorial of a number using the `reduce()` function."
   ]
  },
  {
   "cell_type": "code",
   "execution_count": 75,
   "id": "92aca20d-19f4-441b-88d8-ac9cd861ca04",
   "metadata": {},
   "outputs": [
    {
     "name": "stdout",
     "output_type": "stream",
     "text": [
      "720\n"
     ]
    }
   ],
   "source": [
    "num=6\n",
    "factorial=reduce(lambda a,b : a*b ,range(1,num+1))\n",
    "print(factorial)"
   ]
  },
  {
   "cell_type": "code",
   "execution_count": null,
   "id": "d8291f9f-fe5c-4544-a070-735090b2b3b4",
   "metadata": {},
   "outputs": [],
   "source": []
  },
  {
   "cell_type": "code",
   "execution_count": null,
   "id": "0f12669a-9990-4d52-854d-0fd96e91e635",
   "metadata": {},
   "outputs": [],
   "source": [
    "# 6. Create a Python program that uses `reduce()` to find the GCD (Greatest Common Divisor) of a list of numbers."
   ]
  },
  {
   "cell_type": "code",
   "execution_count": 29,
   "id": "f23e2647-b3fc-44bb-aaf4-33b15086d856",
   "metadata": {},
   "outputs": [
    {
     "name": "stdout",
     "output_type": "stream",
     "text": [
      "GCD of 336,360,24,56 is 8\n"
     ]
    }
   ],
   "source": [
    "from functools import reduce\n",
    "from math import gcd as _gcd\n",
    "def gcd(nums):\n",
    "    return reduce(_gcd, nums)\n",
    "nums = [336, 360,24,56]\n",
    "print(\"GCD of\",','.join(str(e) for e in nums),\"is\",gcd(nums))\n"
   ]
  },
  {
   "cell_type": "code",
   "execution_count": null,
   "id": "cac62829-39e9-4d58-8bbc-c0da3cd60ba8",
   "metadata": {},
   "outputs": [],
   "source": []
  },
  {
   "cell_type": "code",
   "execution_count": null,
   "id": "152e46d8-68fc-4eae-8c17-ff21448c78b9",
   "metadata": {},
   "outputs": [],
   "source": [
    "# 7. Write a Python program that uses the `reduce()` function to find the sum of the digits of a given number."
   ]
  },
  {
   "cell_type": "code",
   "execution_count": 95,
   "id": "f6ca11cb-bf44-41f7-ad59-a1d5bc23eb2f",
   "metadata": {},
   "outputs": [
    {
     "name": "stdout",
     "output_type": "stream",
     "text": [
      "18\n"
     ]
    }
   ],
   "source": [
    "num=1089\n",
    "final_sum =reduce(lambda a,b : int(a)+int(b) , list(str(num))) \n",
    "print(final_sum)"
   ]
  },
  {
   "cell_type": "code",
   "execution_count": null,
   "id": "6704c60f-e979-4af3-a454-3c2f0baaee33",
   "metadata": {},
   "outputs": [],
   "source": []
  },
  {
   "cell_type": "code",
   "execution_count": null,
   "id": "fc59f12d-28a6-4190-9c24-f4e218342b42",
   "metadata": {},
   "outputs": [],
   "source": [
    "# Filter :-"
   ]
  },
  {
   "cell_type": "code",
   "execution_count": null,
   "id": "287494ba-6dd0-48b1-ba75-663b3973f937",
   "metadata": {},
   "outputs": [],
   "source": []
  },
  {
   "cell_type": "code",
   "execution_count": null,
   "id": "0067fe2d-900d-48c5-b0f1-8339033154d8",
   "metadata": {},
   "outputs": [],
   "source": [
    "# 1. Explain the purpose of the `filter()` function in Python and provide an example of how it can be used to filter elements from an iterable."
   ]
  },
  {
   "cell_type": "code",
   "execution_count": 42,
   "id": "53678bac-261d-4600-ad85-21c6f27401c2",
   "metadata": {},
   "outputs": [
    {
     "name": "stdout",
     "output_type": "stream",
     "text": [
      "[2, 4, 6, 80, 90, 200]\n"
     ]
    }
   ],
   "source": [
    "''' filter function is used to  filter the iterable based on  elements that satisfy the  condition specified inside the filter function '''\n",
    "'''For example here  we generate a list of even numbers from a given list by using the filter() and specifying condition inside it .'''\n",
    "l=[1,2,3,4,5,6,80,90,200]\n",
    "even=list(filter(lambda a:a,[i for i in l if i%2==0]))\n",
    "print(even)\n"
   ]
  },
  {
   "cell_type": "code",
   "execution_count": null,
   "id": "e42d4d38-9e39-4b0d-a4bd-0f4801553b4e",
   "metadata": {},
   "outputs": [],
   "source": []
  },
  {
   "cell_type": "code",
   "execution_count": null,
   "id": "3d3dd35a-41fc-48ab-885a-f585937d89da",
   "metadata": {},
   "outputs": [],
   "source": [
    "# 2. Write a Python program that uses the `filter()` function to select even numbers from a list of integers."
   ]
  },
  {
   "cell_type": "code",
   "execution_count": 98,
   "id": "97aa9f91-2a3d-453d-8b5e-71bedcebcc12",
   "metadata": {},
   "outputs": [
    {
     "name": "stdout",
     "output_type": "stream",
     "text": [
      "[2, 4, 6, 80, 90, 200]\n"
     ]
    }
   ],
   "source": [
    "l=[1,2,3,4,5,6,80,90,200]\n",
    "even=list(filter(lambda a:a,[i for i in l if i%2==0]))\n",
    "print(even)"
   ]
  },
  {
   "cell_type": "code",
   "execution_count": null,
   "id": "5f983cbd-27c8-41d3-965e-0759d74ca61a",
   "metadata": {},
   "outputs": [],
   "source": []
  },
  {
   "cell_type": "code",
   "execution_count": null,
   "id": "42a01c9e-e292-4ff7-9709-ba345925e75b",
   "metadata": {},
   "outputs": [],
   "source": [
    "# 3. Create a Python program that uses the `filter()` function to select names that start with a specific letter from a list of strings."
   ]
  },
  {
   "cell_type": "code",
   "execution_count": 104,
   "id": "7651732d-8437-43b1-ac16-a9a159b5ece2",
   "metadata": {},
   "outputs": [
    {
     "name": "stdout",
     "output_type": "stream",
     "text": [
      "List with names starting with  'S' letter = ['Siddharth', 'Shubham']\n"
     ]
    }
   ],
   "source": [
    "name=['Siddharth','Divya','Shubham','Prashant']\n",
    "filtered_names=list(filter(lambda a: a.startswith(\"S\"),name))\n",
    "print(f\"List with names starting with  'S' letter = {str(filtered_names)}\")"
   ]
  },
  {
   "cell_type": "code",
   "execution_count": null,
   "id": "f7209e45-57db-4ff4-afdf-9394b6099751",
   "metadata": {},
   "outputs": [],
   "source": []
  },
  {
   "cell_type": "code",
   "execution_count": null,
   "id": "95077823-d788-4d3d-8931-6652379bf7a8",
   "metadata": {},
   "outputs": [],
   "source": []
  },
  {
   "cell_type": "code",
   "execution_count": null,
   "id": "911c11b9-218f-43be-b9fc-9e611c4449e5",
   "metadata": {},
   "outputs": [],
   "source": []
  },
  {
   "cell_type": "code",
   "execution_count": 1,
   "id": "b17b7be5-a842-42ce-9e31-ccdf0a66d81c",
   "metadata": {},
   "outputs": [],
   "source": [
    "# 4. Write a Python program that uses the `filter()` function to select prime numbers from a list of integers."
   ]
  },
  {
   "cell_type": "code",
   "execution_count": 34,
   "id": "7d07f632-e166-46a8-bfb1-f052ebaa8074",
   "metadata": {},
   "outputs": [
    {
     "name": "stdout",
     "output_type": "stream",
     "text": [
      "[2, 3, 5, 7]\n"
     ]
    }
   ],
   "source": [
    "def prime(n): \n",
    "    if n <= 0: \n",
    "        return \"Not defined\" \n",
    "    elif n == 1: \n",
    "        return \"Not prime\" \n",
    "    for i in range(2, n): \n",
    "        if n%i == 0: \n",
    "            return \"not prime\" \n",
    "    return \"prime\" \n",
    " \n",
    " \n",
    " \n",
    "def list_prime(lst): \n",
    "\tprime_list =[ ] \n",
    "\tfor i in lst: \n",
    "\t\tx = prime(i) \n",
    "\t\tif x == \"prime\": \n",
    "\t\t\tprime_list.append(i) \n",
    "\treturn prime_list \n",
    "\t \n",
    "print(list_prime([1,2,3,4,5,6,7,8,9])) "
   ]
  },
  {
   "cell_type": "code",
   "execution_count": null,
   "id": "bc59e430-4c7b-48b7-aaa0-7df0bf8528f8",
   "metadata": {},
   "outputs": [],
   "source": []
  },
  {
   "cell_type": "code",
   "execution_count": null,
   "id": "65046eab-ae0c-4392-823c-89b264e0c60d",
   "metadata": {},
   "outputs": [],
   "source": []
  },
  {
   "cell_type": "code",
   "execution_count": null,
   "id": "d4c46e64-afce-449d-9c3c-cc1414176372",
   "metadata": {},
   "outputs": [],
   "source": []
  },
  {
   "cell_type": "code",
   "execution_count": null,
   "id": "ee66d10e-b2dc-4c02-8e7f-8cad03827f25",
   "metadata": {},
   "outputs": [],
   "source": [
    "# 5. How can you use the `filter()` function to remove None values from a list in Python?"
   ]
  },
  {
   "cell_type": "code",
   "execution_count": 39,
   "id": "7d613ad3-57b3-46b6-a8c6-3a16646b8fb6",
   "metadata": {},
   "outputs": [
    {
     "name": "stdout",
     "output_type": "stream",
     "text": [
      "[2, 3, 4, 'shift', 'this']\n"
     ]
    }
   ],
   "source": [
    "l=[None,2,3,4,None,\"shift\",\"this\",None]\n",
    "filtered_l=list(filter(lambda a: a!=None,l))\n",
    "print(filtered_l)"
   ]
  },
  {
   "cell_type": "code",
   "execution_count": null,
   "id": "ebe9e4e6-7dd9-4da8-b005-0bc422033f9d",
   "metadata": {},
   "outputs": [],
   "source": []
  },
  {
   "cell_type": "code",
   "execution_count": null,
   "id": "85c5f52d-f89a-4e54-8e11-4867199e431b",
   "metadata": {},
   "outputs": [],
   "source": [
    "# 6. Create a Python program that uses `filter()` to select words longer than a certain length from a list of strings."
   ]
  },
  {
   "cell_type": "code",
   "execution_count": 69,
   "id": "5ee47548-d511-44a6-9cfe-9ae4577e68ed",
   "metadata": {},
   "outputs": [
    {
     "name": "stdout",
     "output_type": "stream",
     "text": [
      "['going', 'Himalayas', 'doing', 'penace', 'finally', 'merge', 'into', 'supreme']\n"
     ]
    }
   ],
   "source": [
    "statement=[\"I\",\"am\",\"going\",\"to\",\"Himalayas\",\"for\",\"doing\",\"penace\",\"and\",\"finally\",\"merge\",\"into\",\"supreme\"]\n",
    "filtered_statement=list(filter(lambda a: len(a)>3,statement))\n",
    "print(filtered_statement)"
   ]
  },
  {
   "cell_type": "code",
   "execution_count": null,
   "id": "52d9d76a-24a8-41a4-8f08-aebd456d6b73",
   "metadata": {},
   "outputs": [],
   "source": []
  },
  {
   "cell_type": "code",
   "execution_count": null,
   "id": "0ea9da2d-8ed6-4f8e-8e2b-099bb0577b3a",
   "metadata": {},
   "outputs": [],
   "source": []
  },
  {
   "cell_type": "code",
   "execution_count": null,
   "id": "d5459fca-fd24-4991-89d4-43942a8646e2",
   "metadata": {},
   "outputs": [],
   "source": [
    "# 7. Write a Python program that uses the `filter()` function to select elements greater than a specified threshold from a list of values."
   ]
  },
  {
   "cell_type": "code",
   "execution_count": 3,
   "id": "43499d22-e8d6-4866-8713-2d11887fedd2",
   "metadata": {},
   "outputs": [
    {
     "name": "stdout",
     "output_type": "stream",
     "text": [
      "[7, 8, 9]\n"
     ]
    }
   ],
   "source": [
    "l=[1,2,3,4,5,6,7,8,9]\n",
    "filtered_l=list(filter(lambda a: a>6 ,l))\n",
    "print(filtered_l)"
   ]
  },
  {
   "cell_type": "code",
   "execution_count": null,
   "id": "8346c561-97e7-4f90-80aa-8c1f09951750",
   "metadata": {},
   "outputs": [],
   "source": []
  },
  {
   "cell_type": "code",
   "execution_count": null,
   "id": "8df3a1dd-dd00-4a49-9cd5-f5ae3c51b0c0",
   "metadata": {},
   "outputs": [],
   "source": [
    "# Recursion:-\n",
    "# 1. Explain the concept of recursion in Python. How does it differ from iteration?"
   ]
  },
  {
   "cell_type": "code",
   "execution_count": null,
   "id": "f9e1d0c5-cf99-4fd7-bc1f-e436a6129946",
   "metadata": {},
   "outputs": [],
   "source": [
    "''' Recursion is when a function calls itself within its code, thus repeatedly executing the instructions present inside it. \n",
    "Iteration is when a loop repeatedly executes the set of instructions like \"for\" loops and \"while\" loops.  '''"
   ]
  },
  {
   "cell_type": "code",
   "execution_count": null,
   "id": "445edd40-3af3-49af-b416-402fdb7949b7",
   "metadata": {},
   "outputs": [],
   "source": []
  },
  {
   "cell_type": "code",
   "execution_count": null,
   "id": "8ce0b935-cd15-4c90-8367-1ef65ccde21c",
   "metadata": {},
   "outputs": [],
   "source": []
  },
  {
   "cell_type": "code",
   "execution_count": null,
   "id": "19a4a3d4-0cb7-4d0b-8f3d-54aaaf17c9f2",
   "metadata": {},
   "outputs": [],
   "source": [
    "# 2. Write a Python program to calculate the factorial of a number using recursion."
   ]
  },
  {
   "cell_type": "code",
   "execution_count": 4,
   "id": "cb625a25-ff82-4020-be01-fdda768d563b",
   "metadata": {},
   "outputs": [
    {
     "data": {
      "text/plain": [
       "24"
      ]
     },
     "execution_count": 4,
     "metadata": {},
     "output_type": "execute_result"
    }
   ],
   "source": [
    "def fact_number(n):\n",
    "    if n==0:\n",
    "        return 1\n",
    "    else:\n",
    "        return n*fact_number(n-1)\n",
    "fact_number(4)"
   ]
  },
  {
   "cell_type": "code",
   "execution_count": null,
   "id": "b3bc1a8a-e626-4428-9117-fb99f3379afb",
   "metadata": {},
   "outputs": [],
   "source": []
  },
  {
   "cell_type": "code",
   "execution_count": null,
   "id": "560c5a21-439f-4870-8a6a-d15d58b2713b",
   "metadata": {},
   "outputs": [],
   "source": []
  },
  {
   "cell_type": "code",
   "execution_count": null,
   "id": "9d70b308-b0c4-4ef9-9e19-f3667548c464",
   "metadata": {},
   "outputs": [],
   "source": []
  },
  {
   "cell_type": "code",
   "execution_count": null,
   "id": "266417d7-6e7e-4b57-8ce5-3c419946ced8",
   "metadata": {},
   "outputs": [],
   "source": [
    "# 3. Create a recursive Python function to find the nth Fibonacci number."
   ]
  },
  {
   "cell_type": "code",
   "execution_count": 9,
   "id": "ffac7669-3124-477a-a0f5-8015029e04ba",
   "metadata": {},
   "outputs": [],
   "source": [
    "n=4\n",
    "def gen_fib(n):\n",
    "    if n<=1:\n",
    "        return n\n",
    "    else:\n",
    "        return gen_fib(n-1)+gen_fib(n-2)"
   ]
  },
  {
   "cell_type": "code",
   "execution_count": 10,
   "id": "684b15d9-ea4b-4305-9e53-d5d9a3c913a6",
   "metadata": {},
   "outputs": [
    {
     "data": {
      "text/plain": [
       "3"
      ]
     },
     "execution_count": 10,
     "metadata": {},
     "output_type": "execute_result"
    }
   ],
   "source": [
    "gen_fib(n)"
   ]
  },
  {
   "cell_type": "code",
   "execution_count": null,
   "id": "5416ac6c-ed62-45d6-a798-07b1ca9fd573",
   "metadata": {},
   "outputs": [],
   "source": []
  },
  {
   "cell_type": "code",
   "execution_count": null,
   "id": "be34613e-911f-40f0-852a-6b8d6e191cdb",
   "metadata": {},
   "outputs": [],
   "source": [
    "# 4. Write a recursive Python function to calculate the sum of all elements in a list."
   ]
  },
  {
   "cell_type": "code",
   "execution_count": 1,
   "id": "1c3739d0-d20d-48d3-adcd-09e6edd7696a",
   "metadata": {},
   "outputs": [
    {
     "name": "stdout",
     "output_type": "stream",
     "text": [
      "42\n"
     ]
    }
   ],
   "source": [
    "\n",
    "myList=[23,4,2,6,7]\n",
    " \n",
    "def sumOfList(myList, nSum):\n",
    "    if len(myList):\n",
    "        return sumOfList(myList[1:], nSum+myList[0])\n",
    "    else:\n",
    "        return nSum\n",
    "         \n",
    "print(sumOfList(myList, 0))"
   ]
  },
  {
   "cell_type": "code",
   "execution_count": null,
   "id": "eff9db0a-639f-4486-9ff9-48f099ca53b1",
   "metadata": {},
   "outputs": [],
   "source": []
  },
  {
   "cell_type": "code",
   "execution_count": null,
   "id": "ffd7f7cf-b765-43fc-9cdf-6b1d6c0fdbb7",
   "metadata": {},
   "outputs": [],
   "source": [
    "# 5. How can you prevent a recursive function from running indefinitely, causing a stack overflow error?"
   ]
  },
  {
   "cell_type": "code",
   "execution_count": null,
   "id": "c4dab971-97e2-4899-ba80-c17c24c19e59",
   "metadata": {},
   "outputs": [],
   "source": [
    "''' Use a base case: Make sure that you have a base case that will eventually stop the recursion.\n",
    "This will ensure that the recursion doesn't continue indefinitely.\n",
    "\n",
    "Increase the recursion limit: Python has a default recursion limit of 1000.\n",
    "Use an iterative solution: In some cases, it may be more appropriate to use an iterative solution rather than a recursive one. This can help avoid stack overflow issues altogether. '''"
   ]
  },
  {
   "cell_type": "code",
   "execution_count": null,
   "id": "2659a619-6d99-4c3b-bb43-f519c5dda022",
   "metadata": {},
   "outputs": [],
   "source": []
  },
  {
   "cell_type": "code",
   "execution_count": null,
   "id": "2a4459db-a437-49ea-afd2-88e5e026f2d4",
   "metadata": {},
   "outputs": [],
   "source": [
    "# 6. Create a recursive Python function to find the greatest common divisor (GCD) of two numbers using the Euclidean algorithm."
   ]
  },
  {
   "cell_type": "code",
   "execution_count": 2,
   "id": "bba219ee-37fc-40b2-a53f-74edeb04abb9",
   "metadata": {},
   "outputs": [
    {
     "name": "stdout",
     "output_type": "stream",
     "text": [
      "GCD of 36 and 60 is 12\n"
     ]
    }
   ],
   "source": [
    "# Recursive function to return GCD of two number\n",
    "def findGCD(num1, num2):\n",
    "    \n",
    "    # Everything divides 0\n",
    "    if num1 == 0 or num2 == 0:\n",
    "        return num1 + num2\n",
    "    \n",
    "    # base case\n",
    "    if num1 == num2:\n",
    "        return num1\n",
    "    \n",
    "    # num1>num2\n",
    "    if num1 > num2:\n",
    "        return findGCD(num1 - num2, num2)\n",
    "    else:\n",
    "        return findGCD(num1, num2 - num1)\n",
    "\n",
    "\n",
    "num1 = 36\n",
    "num2 = 60\n",
    "\n",
    "print(\"GCD of\", num1, \"and\", num2, \"is\", findGCD(num1, num2))"
   ]
  },
  {
   "cell_type": "code",
   "execution_count": null,
   "id": "cca35d3d-f84e-497f-b958-9265c64fc857",
   "metadata": {},
   "outputs": [],
   "source": []
  },
  {
   "cell_type": "code",
   "execution_count": null,
   "id": "e55c76c3-74a0-449c-be8a-c805e874442e",
   "metadata": {},
   "outputs": [],
   "source": [
    "# 7. Write a recursive Python function to reverse a string."
   ]
  },
  {
   "cell_type": "code",
   "execution_count": 4,
   "id": "9301b66d-933a-4f3e-a85d-3454134e8c7a",
   "metadata": {},
   "outputs": [
    {
     "name": "stdout",
     "output_type": "stream",
     "text": [
      "The original string is : this\n",
      "The reversed string(using recursion) is : siht\n"
     ]
    }
   ],
   "source": [
    "def reverse(s):\n",
    "\tif len(s) == 0:\n",
    "\t\treturn s\n",
    "\telse:\n",
    "\t\treturn reverse(s[1:]) + s[0]\n",
    "\n",
    "\n",
    "s = \"this\"\n",
    "\n",
    "print(\"The original string is : \", end=\"\")\n",
    "print(s)\n",
    "\n",
    "print(\"The reversed string(using recursion) is : \", end=\"\")\n",
    "print(reverse(s))\n",
    "    "
   ]
  },
  {
   "cell_type": "code",
   "execution_count": null,
   "id": "cc257423-c36d-40a5-84a3-ac7b83a5d918",
   "metadata": {},
   "outputs": [],
   "source": []
  },
  {
   "cell_type": "code",
   "execution_count": null,
   "id": "c9abb6c0-a1d8-4f16-aff1-c2b3f315ed3a",
   "metadata": {},
   "outputs": [],
   "source": [
    "# 8. Create a recursive Python function to calculate the power of a number (x^n)."
   ]
  },
  {
   "cell_type": "code",
   "execution_count": 9,
   "id": "e84cc5b5-070c-4e68-b478-ea6593c1734e",
   "metadata": {},
   "outputs": [
    {
     "name": "stdout",
     "output_type": "stream",
     "text": [
      "2 to the power 3 is 8\n"
     ]
    }
   ],
   "source": [
    "def power(a, b):\n",
    "    if b != 0:\n",
    "        return a * power(a, b - 1)\n",
    "    else:\n",
    "        return 1\n",
    "\n",
    "\n",
    "a = 2\n",
    "b = 3\n",
    "print(a, \"to the power\", b, \"is\", power(a, b))"
   ]
  },
  {
   "cell_type": "code",
   "execution_count": null,
   "id": "73483f94-0ea5-4b00-8938-c2bab03e80aa",
   "metadata": {},
   "outputs": [],
   "source": [
    "# 9. Write a recursive Python function to find all permutations of a given string."
   ]
  },
  {
   "cell_type": "code",
   "execution_count": 43,
   "id": "412c6c91-860d-45db-83f1-d1666f7bf532",
   "metadata": {},
   "outputs": [
    {
     "name": "stdout",
     "output_type": "stream",
     "text": [
      "hit\n",
      "hti\n",
      "iht\n",
      "ith\n",
      "thi\n",
      "tih\n"
     ]
    }
   ],
   "source": [
    "def perms(s):        \n",
    "    if(len(s)==1): return [s]\n",
    "    result=[]\n",
    "    for i,v in enumerate(s):\n",
    "        result += [v+p for p in perms(s[:i]+s[i+1:])]\n",
    "    return result\n",
    "\n",
    "perms('hit')\n",
    "print('\\n'.join(perms('hit')))"
   ]
  },
  {
   "cell_type": "code",
   "execution_count": null,
   "id": "34201c38-a56a-4675-96a5-5a3800c6b8f5",
   "metadata": {},
   "outputs": [],
   "source": [
    "# 10. Write a recursive Python function to check if a string is a palindrome."
   ]
  },
  {
   "cell_type": "code",
   "execution_count": 24,
   "id": "fe46e8c6-e942-447d-98d9-8a7fe60ab536",
   "metadata": {},
   "outputs": [
    {
     "name": "stdin",
     "output_type": "stream",
     "text": [
      "Enter the string : noon\n"
     ]
    },
    {
     "name": "stdout",
     "output_type": "stream",
     "text": [
      "The string is a palindrome\n"
     ]
    }
   ],
   "source": [
    "def check_palindrome(my_str):\n",
    "   if len(my_str) < 1:\n",
    "      return True\n",
    "   else:\n",
    "      if my_str[0] == my_str[-1]:\n",
    "         return check_palindrome(my_str[1:-1])\n",
    "      else:\n",
    "         return False\n",
    "my_string = str(input(\"Enter the string :\"))\n",
    "\n",
    "if(check_palindrome(my_string)==True):\n",
    "   print(\"The string is a palindrome\")\n",
    "else:\n",
    "   print(\"The string isn't a palindrome\")"
   ]
  },
  {
   "cell_type": "code",
   "execution_count": null,
   "id": "bcb46f73-26ab-4abd-bb1a-06e005f6b823",
   "metadata": {},
   "outputs": [],
   "source": [
    "# 11. Create a recursive Python function to generate all possible combinations of a list of elements."
   ]
  },
  {
   "cell_type": "code",
   "execution_count": 26,
   "id": "0c6e4913-ac02-41c0-80eb-c743e2e66aa8",
   "metadata": {},
   "outputs": [
    {
     "name": "stdout",
     "output_type": "stream",
     "text": [
      "[[], [1], [2], [1, 2], [3], [1, 3], [2, 3], [1, 2, 3]]\n"
     ]
    }
   ],
   "source": [
    "def combinations(l):\n",
    "    if l:\n",
    "      result = combinations(l[:-1])\n",
    "      return result + [c + [l[-1]] for c in result]\n",
    "    else:\n",
    "      return [[]]\n",
    "\n",
    "print(combinations([1,2,3]))"
   ]
  },
  {
   "cell_type": "code",
   "execution_count": null,
   "id": "294333a2-251b-499f-9bd3-e9cecfe6d7d9",
   "metadata": {},
   "outputs": [],
   "source": []
  },
  {
   "cell_type": "code",
   "execution_count": null,
   "id": "f58e7f95-5739-46e9-9ef5-d33d1f7fc9ac",
   "metadata": {},
   "outputs": [],
   "source": []
  },
  {
   "cell_type": "code",
   "execution_count": null,
   "id": "339bcf65-1fad-43a5-85b4-839c0c3b7a1a",
   "metadata": {},
   "outputs": [],
   "source": [
    "# Basics of Functions:\n",
    "# 1. What is a function in Python, and why is it used?"
   ]
  },
  {
   "cell_type": "code",
   "execution_count": null,
   "id": "f9d30988-7872-4cec-b0c3-28aac176eb26",
   "metadata": {},
   "outputs": [],
   "source": [
    "''' That means that a function is a piece of code written to carry out a specified task.\n",
    "we use functions in programming to bundle a set of instructions that we  want to use repeatedly or that, because of their complexity, are better self-contained in a sub-program \n",
    "and called when needed.  '''"
   ]
  },
  {
   "cell_type": "code",
   "execution_count": null,
   "id": "b91154a3-8d4f-4649-b87f-5525ca5ebf1d",
   "metadata": {},
   "outputs": [],
   "source": []
  },
  {
   "cell_type": "code",
   "execution_count": null,
   "id": "7be643b5-61ae-43d5-a5ce-fd77b9522e45",
   "metadata": {},
   "outputs": [],
   "source": [
    "# 2. How do you define a function in Python? Provide an example."
   ]
  },
  {
   "cell_type": "code",
   "execution_count": null,
   "id": "d0a48007-018e-462f-b96b-d318e78cb8cf",
   "metadata": {},
   "outputs": [],
   "source": [
    "''' we define function in afollowing way :-\n",
    "def functionname(argument1,argument2.....argumentn):\n",
    "          statement1\n",
    "             .\n",
    "             .\n",
    "             .\n",
    "          statementn  \n",
    "'''"
   ]
  },
  {
   "cell_type": "code",
   "execution_count": 45,
   "id": "ebb6a88e-7071-4d74-bfae-3dc945141a4c",
   "metadata": {},
   "outputs": [
    {
     "data": {
      "text/plain": [
       "6"
      ]
     },
     "execution_count": 45,
     "metadata": {},
     "output_type": "execute_result"
    }
   ],
   "source": [
    "def  multiply(a,b):\n",
    "      return a*b\n",
    "multiply(2,3)"
   ]
  },
  {
   "cell_type": "code",
   "execution_count": null,
   "id": "67d5acb0-7123-420f-a723-83dd08caa118",
   "metadata": {},
   "outputs": [],
   "source": []
  },
  {
   "cell_type": "code",
   "execution_count": null,
   "id": "569d319b-6016-4c72-99a4-4c7e7787facc",
   "metadata": {},
   "outputs": [],
   "source": [
    "# 3. Explain the difference between a function definition and a function call."
   ]
  },
  {
   "cell_type": "code",
   "execution_count": null,
   "id": "de18b3ab-cd81-42cc-8722-26a1d687c491",
   "metadata": {},
   "outputs": [],
   "source": [
    "'''The difference between calling and defining a function is that when you define a function, you are creating the instructions for the function\n",
    "to follow. These instructions are stored in memory for future use.\n",
    "When you call a function, you are asking the program to execute the instructions that were defined earlier. In other words, defining a function creates the blueprint\n",
    "for the instructions, while calling a function puts that blueprint into action.'''\n",
    "\n"
   ]
  },
  {
   "cell_type": "code",
   "execution_count": null,
   "id": "5cb10faf-4282-4266-a8b3-e39d4fe0f5a0",
   "metadata": {},
   "outputs": [],
   "source": []
  },
  {
   "cell_type": "code",
   "execution_count": null,
   "id": "1151b044-293c-4a11-a0db-89d1e98abceb",
   "metadata": {},
   "outputs": [],
   "source": []
  },
  {
   "cell_type": "code",
   "execution_count": null,
   "id": "b8e06b2a-abce-4456-b080-e5997b83468e",
   "metadata": {},
   "outputs": [],
   "source": [
    "# 4. Write a Python program that defines a function to calculate the sum of two numbers and then calls the function."
   ]
  },
  {
   "cell_type": "code",
   "execution_count": 46,
   "id": "334d6d36-e706-48ac-b904-ece11f1334c6",
   "metadata": {},
   "outputs": [
    {
     "data": {
      "text/plain": [
       "6"
      ]
     },
     "execution_count": 46,
     "metadata": {},
     "output_type": "execute_result"
    }
   ],
   "source": [
    "def sumof(a,b):\n",
    "    return a+b\n",
    "sumof(2,4)"
   ]
  },
  {
   "cell_type": "code",
   "execution_count": null,
   "id": "120e4a1d-5596-4996-b3c3-b2aba0ef9cd6",
   "metadata": {},
   "outputs": [],
   "source": []
  },
  {
   "cell_type": "code",
   "execution_count": null,
   "id": "33ecc8bd-fbb0-447a-b00d-441e81d587d4",
   "metadata": {},
   "outputs": [],
   "source": [
    "# 5. What is a function signature, and what information does it typically include?"
   ]
  },
  {
   "cell_type": "code",
   "execution_count": null,
   "id": "64d488b0-a9af-43c5-bf6f-500259b54168",
   "metadata": {},
   "outputs": [],
   "source": [
    "'''a function signature provides crucial information about the types of parameters that a function can accept and the type of data it returns '''\n"
   ]
  },
  {
   "cell_type": "code",
   "execution_count": null,
   "id": "33533e9a-328e-4245-8ad0-adbbf9262934",
   "metadata": {},
   "outputs": [],
   "source": []
  },
  {
   "cell_type": "code",
   "execution_count": null,
   "id": "10178e1d-b5af-4392-8782-25a405328e78",
   "metadata": {},
   "outputs": [],
   "source": [
    "# 6. Create a Python function that takes two arguments and returns their product."
   ]
  },
  {
   "cell_type": "code",
   "execution_count": 47,
   "id": "7c8f3123-09ba-4283-9941-45c262a52918",
   "metadata": {},
   "outputs": [
    {
     "name": "stdout",
     "output_type": "stream",
     "text": [
      "8\n"
     ]
    }
   ],
   "source": [
    "def product(a,b):\n",
    "    return a*b\n",
    "product=product(2,4)\n",
    "print(product)"
   ]
  },
  {
   "cell_type": "code",
   "execution_count": null,
   "id": "a62a4f50-d0f8-43ce-872b-7e122db246e4",
   "metadata": {},
   "outputs": [],
   "source": []
  },
  {
   "cell_type": "code",
   "execution_count": null,
   "id": "0b4bb45e-a23e-45c9-9e52-2a35c4d6e0b6",
   "metadata": {},
   "outputs": [],
   "source": [
    "# Function Parameters and Arguments:\n",
    "# 1. Explain the concepts of formal parameters and actual arguments in Python functions."
   ]
  },
  {
   "cell_type": "code",
   "execution_count": null,
   "id": "002a60b2-4a1a-40d8-9bf9-efb58f0828ce",
   "metadata": {},
   "outputs": [],
   "source": [
    "''' The difference Between Actual and Formal Parameters is that the actual parameter is used to invoke or pass the information while executing the program. \n",
    "In contrast, formal parameters are declared while calling the function. Actual and Formal Parameters are an important part of a program.'''"
   ]
  },
  {
   "cell_type": "code",
   "execution_count": null,
   "id": "ed89c061-b2e3-45ae-aedf-2d900ce95a97",
   "metadata": {},
   "outputs": [],
   "source": []
  },
  {
   "cell_type": "code",
   "execution_count": null,
   "id": "6c259240-1018-4f33-b86c-c40bab472be5",
   "metadata": {},
   "outputs": [],
   "source": [
    "# 2. Write a Python program that defines a function with default argument values."
   ]
  },
  {
   "cell_type": "code",
   "execution_count": 50,
   "id": "fb325512-8a47-46fd-8c98-640c227fc587",
   "metadata": {},
   "outputs": [
    {
     "name": "stdout",
     "output_type": "stream",
     "text": [
      "Good morning Harry\n"
     ]
    }
   ],
   "source": [
    "def greet(name=\"Harry\"):\n",
    "    return \"Good morning \" +name\n",
    "print(greet())"
   ]
  },
  {
   "cell_type": "code",
   "execution_count": null,
   "id": "ca9b3d87-e36a-49ce-b042-be36f74603f9",
   "metadata": {},
   "outputs": [],
   "source": []
  },
  {
   "cell_type": "code",
   "execution_count": null,
   "id": "1fad11dd-617a-4026-be99-4a0457a439d0",
   "metadata": {},
   "outputs": [],
   "source": [
    "# 3. How do you use keyword arguments in Python function calls? Provide an example."
   ]
  },
  {
   "cell_type": "code",
   "execution_count": null,
   "id": "a944f2b1-d660-4772-80b9-10fbd378c1db",
   "metadata": {},
   "outputs": [],
   "source": [
    "'''Keyword arguments (or named arguments) are values that, when passed into a function, are identifiable by specific parameter names.\n",
    "A keyword argument is preceded by a parameter and the assignment operator, = '''"
   ]
  },
  {
   "cell_type": "code",
   "execution_count": 72,
   "id": "a4388f16-dcb3-487b-88d5-25a04f0c09c0",
   "metadata": {},
   "outputs": [
    {
     "name": "stdout",
     "output_type": "stream",
     "text": [
      "Andrew is working on  Python\n"
     ]
    }
   ],
   "source": [
    "def team(name, project):\n",
    "    print(name, \"is working on \", project)\n",
    "\n",
    "team(project = \"Python\", name = 'Andrew')"
   ]
  },
  {
   "cell_type": "code",
   "execution_count": null,
   "id": "33fda577-dd1a-4e6d-afd3-4fcf5ef72daf",
   "metadata": {},
   "outputs": [],
   "source": [
    "# 4. Create a Python function that accepts a variable number of arguments and calculates their sum."
   ]
  },
  {
   "cell_type": "code",
   "execution_count": 85,
   "id": "4b4accf5-ba82-4fa1-a417-552c9d4178c0",
   "metadata": {},
   "outputs": [
    {
     "data": {
      "text/plain": [
       "10"
      ]
     },
     "execution_count": 85,
     "metadata": {},
     "output_type": "execute_result"
    }
   ],
   "source": [
    "def sumof(*args):\n",
    "    sum=0\n",
    "    for i in args:\n",
    "        sum=sum+i\n",
    "    return sum\n",
    "sumof(1,3,4,2)"
   ]
  },
  {
   "cell_type": "code",
   "execution_count": null,
   "id": "8d4c0ba9-233e-4f0c-8754-8c2e56a74d3f",
   "metadata": {},
   "outputs": [],
   "source": []
  },
  {
   "cell_type": "code",
   "execution_count": null,
   "id": "7bfb8c1f-a419-48c3-a0ae-0b044cc0d5f2",
   "metadata": {},
   "outputs": [],
   "source": [
    "# 5. What is the purpose of the `*args` and `**kwargs` syntax in function parameter lists?"
   ]
  },
  {
   "cell_type": "code",
   "execution_count": null,
   "id": "bbcfdb40-0b63-45bb-8b01-de5b1283c504",
   "metadata": {},
   "outputs": [],
   "source": [
    "'''Python allows us to do this through certain special syntaxes that are collectively known as arbitrary arguments (or variable-length arguments).\n",
    "Here, unlike with fixed arguments, parameters are not specified by distinct individual names, but rather a general term to better encapsulate the \n",
    "shared attribute of the type of arguments being passed into the function. These syntaxes are of the forms:\n",
    "\n",
    "*args: for non-keyworded/positional arguments\n",
    "**kwargs: for keyworded arguments.\n",
    "These labels, *args and **kwargs, represent the iterables that would be accessed during a function call.\n",
    "\n",
    "A single asterisk signifies elements of a tuple, whereas double asterisks signify elements of a dictionary.'''"
   ]
  },
  {
   "cell_type": "code",
   "execution_count": null,
   "id": "142cfce7-10d1-49a4-90a6-7c6c1d7ebbfe",
   "metadata": {},
   "outputs": [],
   "source": [
    "# Return Values and Scoping:\n",
    "# 1. Describe the role of the `return` statement in Python functions and provide examples."
   ]
  },
  {
   "cell_type": "code",
   "execution_count": 54,
   "id": "cfbe924b-5605-4fac-88d8-eb2e4f9596ad",
   "metadata": {},
   "outputs": [
    {
     "name": "stdout",
     "output_type": "stream",
     "text": [
      "3\n"
     ]
    },
    {
     "ename": "TypeError",
     "evalue": "unsupported operand type(s) for +: 'NoneType' and 'int'",
     "output_type": "error",
     "traceback": [
      "\u001b[0;31m---------------------------------------------------------------------------\u001b[0m",
      "\u001b[0;31mTypeError\u001b[0m                                 Traceback (most recent call last)",
      "Cell \u001b[0;32mIn[54], line 5\u001b[0m\n\u001b[1;32m      3\u001b[0m \u001b[38;5;28;01mdef\u001b[39;00m \u001b[38;5;21msum\u001b[39m(a,b):\n\u001b[1;32m      4\u001b[0m     \u001b[38;5;28mprint\u001b[39m(a\u001b[38;5;241m+\u001b[39mb)\n\u001b[0;32m----> 5\u001b[0m c\u001b[38;5;241m=\u001b[39m\u001b[38;5;28;43msum\u001b[39;49m\u001b[43m(\u001b[49m\u001b[38;5;241;43m1\u001b[39;49m\u001b[43m,\u001b[49m\u001b[38;5;241;43m2\u001b[39;49m\u001b[43m)\u001b[49m\u001b[38;5;241;43m+\u001b[39;49m\u001b[38;5;241;43m4\u001b[39;49m\n\u001b[1;32m      6\u001b[0m \u001b[38;5;28mprint\u001b[39m(c)\n",
      "\u001b[0;31mTypeError\u001b[0m: unsupported operand type(s) for +: 'NoneType' and 'int'"
     ]
    }
   ],
   "source": [
    "\"\"\" 'return' statement hepls to return the value of function as specified after the datatype of data provided as return value.Otherwise on using print it will return Nonetype\"\"\"\n",
    "\"\"\"For e.g\"\"\"\n",
    "def sum(a,b):\n",
    "    print(a+b)\n",
    "c=sum(1,2)+4\n"
   ]
  },
  {
   "cell_type": "code",
   "execution_count": 55,
   "id": "70639220-6e26-4108-bdb6-9c62002ed14f",
   "metadata": {},
   "outputs": [
    {
     "name": "stdout",
     "output_type": "stream",
     "text": [
      "7\n"
     ]
    }
   ],
   "source": [
    "''' In order to avoid this typeError and actually have the required  datatype  of function returned value we use return keyword'''\n",
    "def sum(a,b):\n",
    "    return a+b\n",
    "c=sum(1,2)+4\n",
    "print(c)"
   ]
  },
  {
   "cell_type": "code",
   "execution_count": null,
   "id": "0818d3fd-6825-45a7-9398-193defc9a622",
   "metadata": {},
   "outputs": [],
   "source": []
  },
  {
   "cell_type": "code",
   "execution_count": null,
   "id": "7c3fc6b1-3a68-4f52-aa0f-9c337d98c827",
   "metadata": {},
   "outputs": [],
   "source": [
    "# 2. Explain the concept of variable scope in Python, including local and global variables."
   ]
  },
  {
   "cell_type": "code",
   "execution_count": null,
   "id": "89ffea22-e59e-4c08-8178-24ac9a2b0b86",
   "metadata": {},
   "outputs": [],
   "source": [
    "'''Global keyword is used to modify the global variable outside its current scope and meaning. It is used to make changes in the global variable in a local context. \n",
    "The keyword ‘Global’ is also used to create or declare a global variable inside a function.  \n",
    "Python Global variables are those which are not defined inside any function and have a global scope whereas Python local variables are those which are defined inside a function\n",
    "and their scope is limited to that function only. In other words, we can say that local variables are accessible only inside the function in which it was initialized whereas\n",
    "the global variables are accessible throughout the program and inside every function. '''"
   ]
  },
  {
   "cell_type": "code",
   "execution_count": null,
   "id": "3cf97463-eac0-43f2-8f2a-094586331e68",
   "metadata": {},
   "outputs": [],
   "source": []
  },
  {
   "cell_type": "code",
   "execution_count": null,
   "id": "20e3c4df-0689-4f0a-b329-873d63649c09",
   "metadata": {},
   "outputs": [],
   "source": [
    "# 3. Write a Python program that demonstrates the use of global variables within functions."
   ]
  },
  {
   "cell_type": "code",
   "execution_count": 70,
   "id": "0dd845be-0497-422c-8e5e-f94efe09e85d",
   "metadata": {},
   "outputs": [
    {
     "name": "stdout",
     "output_type": "stream",
     "text": [
      "hello Sam\n",
      "My age is 24\n"
     ]
    }
   ],
   "source": [
    "'''The keyword ‘global’ is also used to create or declare a global variable inside a function. '''\n",
    "def say(name):\n",
    "    global age\n",
    "    age=24\n",
    "    return f\"hello {name}\"\n",
    "print(say(\"Sam\"))\n",
    "print(\"My age is\",age)"
   ]
  },
  {
   "cell_type": "code",
   "execution_count": null,
   "id": "3853ee36-2961-4c44-9bfb-18bba6bc3d0d",
   "metadata": {},
   "outputs": [],
   "source": []
  },
  {
   "cell_type": "code",
   "execution_count": null,
   "id": "1481c8bb-9222-479c-9743-a0785599ef22",
   "metadata": {},
   "outputs": [],
   "source": [
    "# 4. Create a Python function that calculates the factorial of a number and returns it."
   ]
  },
  {
   "cell_type": "code",
   "execution_count": 56,
   "id": "eb4fc97b-ee20-4568-bce6-5fdf4b4cb0de",
   "metadata": {},
   "outputs": [],
   "source": [
    "def fact(n):\n",
    "    if n==0:\n",
    "        return 1\n",
    "    else:\n",
    "        return n*fact(n-1)"
   ]
  },
  {
   "cell_type": "code",
   "execution_count": 57,
   "id": "15f47b8f-688f-4704-abce-971c590e7728",
   "metadata": {},
   "outputs": [
    {
     "data": {
      "text/plain": [
       "120"
      ]
     },
     "execution_count": 57,
     "metadata": {},
     "output_type": "execute_result"
    }
   ],
   "source": [
    "fact(5)"
   ]
  },
  {
   "cell_type": "code",
   "execution_count": null,
   "id": "2b51fa3e-d34f-407c-8167-068506f57fec",
   "metadata": {},
   "outputs": [],
   "source": [
    "# 5. How can you access variables defined outside a function from within the function?"
   ]
  },
  {
   "cell_type": "code",
   "execution_count": 60,
   "id": "529714ad-294f-4140-a630-156e567ed0b5",
   "metadata": {},
   "outputs": [
    {
     "data": {
      "text/plain": [
       "'Good day Harry'"
      ]
     },
     "execution_count": 60,
     "metadata": {},
     "output_type": "execute_result"
    }
   ],
   "source": [
    "'''We can access variables defined outside a function from within the function by calling them directly inside the function'''\n",
    "name=\"Harry\"\n",
    "def greet():\n",
    "    return \"Good day \" +name\n",
    "greet()"
   ]
  },
  {
   "cell_type": "code",
   "execution_count": null,
   "id": "c18b21b1-23c1-41ec-a41e-6eee7e28de57",
   "metadata": {},
   "outputs": [],
   "source": [
    "# Lambda Functions and Higher-Order Functions:\n",
    "# 1. What are lambda functions in Python, and when are they typically used?"
   ]
  },
  {
   "cell_type": "code",
   "execution_count": null,
   "id": "908711d6-769e-4b6b-b199-b98527711bb3",
   "metadata": {},
   "outputs": [],
   "source": [
    "'''Lambda functions are the unnamed/anonymous function defined by the user which takes arguments and return value '''\n",
    "'''They are typically used for performing short operations/data manipulations.'''"
   ]
  },
  {
   "cell_type": "code",
   "execution_count": 72,
   "id": "aee5fdb4-c728-47c5-8f01-1cbc91e2571f",
   "metadata": {},
   "outputs": [],
   "source": [
    "s=lambda a,b:a+b"
   ]
  },
  {
   "cell_type": "code",
   "execution_count": 73,
   "id": "1e9974ae-c3d1-4d4c-86d9-dbfd568b317e",
   "metadata": {},
   "outputs": [
    {
     "data": {
      "text/plain": [
       "3"
      ]
     },
     "execution_count": 73,
     "metadata": {},
     "output_type": "execute_result"
    }
   ],
   "source": [
    "s(1,2)"
   ]
  },
  {
   "cell_type": "code",
   "execution_count": null,
   "id": "3d50d6ff-bb8b-40a2-ac47-a6f95bd119ff",
   "metadata": {},
   "outputs": [],
   "source": [
    "# 2. Write a Python program that uses lambda functions to sort a list of tuples based on the second element."
   ]
  },
  {
   "cell_type": "code",
   "execution_count": 92,
   "id": "7c51d76a-c35d-4c18-97fd-11086acb9079",
   "metadata": {},
   "outputs": [
    {
     "name": "stdout",
     "output_type": "stream",
     "text": [
      "[('easy', 11), ('is', 41), ('not', 87), ('this', 90)]\n"
     ]
    }
   ],
   "source": [
    "l=[(\"this\",90) ,(\"is\",41) ,(\"not\",87) ,(\"easy\",11)]\n",
    "sort_l=sorted(l,key=lambda a:a[1])\n",
    "print(sort_l)\n",
    "\n"
   ]
  },
  {
   "cell_type": "code",
   "execution_count": null,
   "id": "615af6a9-6c60-4a1e-ae84-1e4b822c265b",
   "metadata": {},
   "outputs": [],
   "source": []
  },
  {
   "cell_type": "code",
   "execution_count": null,
   "id": "05914bd2-efe5-4046-bab7-1b6847e11b51",
   "metadata": {},
   "outputs": [],
   "source": [
    "# 3. Explain the concept of higher-order functions in Python, and provide an example."
   ]
  },
  {
   "cell_type": "code",
   "execution_count": null,
   "id": "23faa377-0db4-47ce-9821-0eff9bc50c40",
   "metadata": {},
   "outputs": [],
   "source": [
    "'''Higher-order functions are functions that take a function as a parameter and/or return a function as an output.\n",
    "A few useful higher-order functions are map(), filter(), and reduce(). map() and filter() are built-in functions, whereas reduce() is contained in functools() module.'''"
   ]
  },
  {
   "cell_type": "code",
   "execution_count": 96,
   "id": "87af21ee-3d18-46a1-8e03-80cb37017a6b",
   "metadata": {},
   "outputs": [
    {
     "name": "stdout",
     "output_type": "stream",
     "text": [
      "[1, 4, 9, 16]\n"
     ]
    }
   ],
   "source": [
    "l=[1,2,3,4]\n",
    "a=map(lambda a:a**2,l)\n",
    "l=list(a)\n",
    "print(l)"
   ]
  },
  {
   "cell_type": "code",
   "execution_count": null,
   "id": "6c082d09-6ae6-4b74-82af-eeb1fe4797b8",
   "metadata": {},
   "outputs": [],
   "source": [
    "# 4. Create a Python function that takes a list of numbers and a function as arguments, applying the function to each element in the list."
   ]
  },
  {
   "cell_type": "code",
   "execution_count": 95,
   "id": "03efe1d7-6ba3-4a0b-9d52-733383f70458",
   "metadata": {},
   "outputs": [
    {
     "name": "stdout",
     "output_type": "stream",
     "text": [
      "[100, 200, 300, 400]\n"
     ]
    }
   ],
   "source": [
    "l=[1,2,3,4]\n",
    "a=map(lambda a:a*100,l)\n",
    "l=list(a)\n",
    "print(l)"
   ]
  },
  {
   "cell_type": "code",
   "execution_count": null,
   "id": "a7852fd5-ca1d-4289-abf7-1668c40ce13d",
   "metadata": {},
   "outputs": [],
   "source": []
  },
  {
   "cell_type": "code",
   "execution_count": null,
   "id": "c235d72e-93d1-47b7-8232-9a46efbee0d0",
   "metadata": {},
   "outputs": [],
   "source": [
    "# Built-in Functions:\n",
    "# 1. Describe the role of built-in functions like `len()`, `max()`, and `min()` in Python."
   ]
  },
  {
   "cell_type": "code",
   "execution_count": null,
   "id": "a5cc6a70-ecc0-4a3c-b239-fce416d16a4b",
   "metadata": {},
   "outputs": [],
   "source": [
    "'''Built-in function are function whose definition is already defined inside python library(or compiler)which are used to get final value from iterable  based on their property .\n",
    "len()-it returns the length of iterable .'''"
   ]
  },
  {
   "cell_type": "code",
   "execution_count": 68,
   "id": "a64c7c2f-664c-4ba1-8ab8-f25179ed2d17",
   "metadata": {},
   "outputs": [
    {
     "data": {
      "text/plain": [
       "6"
      ]
     },
     "execution_count": 68,
     "metadata": {},
     "output_type": "execute_result"
    }
   ],
   "source": [
    "len(\"python\")"
   ]
  },
  {
   "cell_type": "code",
   "execution_count": null,
   "id": "656c7cbd-9fab-4a3f-94bb-c65f45115a0e",
   "metadata": {},
   "outputs": [],
   "source": [
    "'''max()-it returns the maximum(greatest) value present inside the iterable .'''"
   ]
  },
  {
   "cell_type": "code",
   "execution_count": 69,
   "id": "73a5d6bd-f812-4b18-b116-aaecfd2a383f",
   "metadata": {},
   "outputs": [
    {
     "data": {
      "text/plain": [
       "5"
      ]
     },
     "execution_count": 69,
     "metadata": {},
     "output_type": "execute_result"
    }
   ],
   "source": [
    "max([1,2,3,4,5])"
   ]
  },
  {
   "cell_type": "code",
   "execution_count": null,
   "id": "57302149-85f1-4ed8-ad16-cdd13db5b040",
   "metadata": {},
   "outputs": [],
   "source": [
    "'''min()-it returns the minimum(smallest) value present inside the iterable .'''"
   ]
  },
  {
   "cell_type": "code",
   "execution_count": 70,
   "id": "342e26c2-36b5-4231-badf-a5c4b746fdc1",
   "metadata": {},
   "outputs": [
    {
     "data": {
      "text/plain": [
       "1"
      ]
     },
     "execution_count": 70,
     "metadata": {},
     "output_type": "execute_result"
    }
   ],
   "source": [
    "min([1,2,3,4,5])"
   ]
  },
  {
   "cell_type": "code",
   "execution_count": null,
   "id": "11f6bb52-e93e-4130-8c2f-d48a075f880b",
   "metadata": {},
   "outputs": [],
   "source": [
    "# 2. Write a Python program that uses the `map()` function to apply a function to each element of a list."
   ]
  },
  {
   "cell_type": "code",
   "execution_count": 65,
   "id": "b4e576d9-740c-4074-a93d-0ab31d4e7448",
   "metadata": {},
   "outputs": [
    {
     "name": "stdout",
     "output_type": "stream",
     "text": [
      "[2, 4, 6, 8, 10]\n"
     ]
    }
   ],
   "source": [
    "l=[1,2,3,4,5,6,7,8,9,10]\n",
    "even_list=list(filter(lambda a: a%2==0,l))\n",
    "print(even_list)"
   ]
  },
  {
   "cell_type": "code",
   "execution_count": null,
   "id": "a8eb58a8-1ccf-4f9d-a0a5-7cc63919d2fb",
   "metadata": {},
   "outputs": [],
   "source": []
  },
  {
   "cell_type": "code",
   "execution_count": null,
   "id": "ac889d45-40e0-4918-bec8-407d57e5c0b8",
   "metadata": {},
   "outputs": [],
   "source": []
  },
  {
   "cell_type": "code",
   "execution_count": null,
   "id": "9091d745-681a-4548-a6f7-fd57c47ffcfb",
   "metadata": {},
   "outputs": [],
   "source": [
    "# 3. How does the `filter()` function work in Python, and when would you use it?"
   ]
  },
  {
   "cell_type": "code",
   "execution_count": null,
   "id": "a66e6f70-5264-404a-91dc-aa326dc164c4",
   "metadata": {},
   "outputs": [],
   "source": [
    "'''filter() takes   list elements as an argument and  return a new list with element satisfying the condition specified inside function of filter()\n",
    "In following way it is used :'''"
   ]
  },
  {
   "cell_type": "code",
   "execution_count": 67,
   "id": "df32f633-9eef-4f7a-b620-98cd713f9c2c",
   "metadata": {},
   "outputs": [
    {
     "name": "stdout",
     "output_type": "stream",
     "text": [
      "[2, 4, 6, 8, 10]\n"
     ]
    }
   ],
   "source": [
    "l=[1,2,3,4,5,6,7,8,9,10]\n",
    "even_list=list(filter(lambda a: a%2==0,l))\n",
    "print(even_list)"
   ]
  },
  {
   "cell_type": "code",
   "execution_count": null,
   "id": "33cbc63c-d844-4ff9-b812-416dfefa5647",
   "metadata": {},
   "outputs": [],
   "source": []
  },
  {
   "cell_type": "code",
   "execution_count": null,
   "id": "255c8979-1a47-41dd-8fdf-80e536af7d48",
   "metadata": {},
   "outputs": [],
   "source": []
  },
  {
   "cell_type": "code",
   "execution_count": null,
   "id": "d5ff9a85-16b3-4dba-86f1-393a72a1811a",
   "metadata": {},
   "outputs": [],
   "source": [
    "# 4. Create a Python program that uses the `reduce()` function to find the product of all elements in a list."
   ]
  },
  {
   "cell_type": "code",
   "execution_count": 70,
   "id": "9169cde8-683f-44a0-8954-e4990b8187fb",
   "metadata": {},
   "outputs": [
    {
     "name": "stdout",
     "output_type": "stream",
     "text": [
      "24\n"
     ]
    }
   ],
   "source": [
    "from functools import reduce\n",
    "l=[1,2,3,4]\n",
    "prod=reduce(lambda a,b :a*b ,l)\n",
    "print(prod)"
   ]
  },
  {
   "cell_type": "code",
   "execution_count": null,
   "id": "7191697d-da0a-484f-af2a-ba523ab80e89",
   "metadata": {},
   "outputs": [],
   "source": []
  },
  {
   "cell_type": "code",
   "execution_count": null,
   "id": "77c7fc5c-d533-4937-8e34-7c166dfa8eb9",
   "metadata": {},
   "outputs": [],
   "source": []
  },
  {
   "cell_type": "code",
   "execution_count": null,
   "id": "24420731-a64a-4498-beeb-20225d61fe12",
   "metadata": {},
   "outputs": [],
   "source": [
    "# Function Documentation and Best Practices:\n",
    "# 1. Explain the purpose of docstrings in Python functions and how to write them."
   ]
  },
  {
   "cell_type": "code",
   "execution_count": 104,
   "id": "e1172c64-985e-45bc-9a64-bc5415db5869",
   "metadata": {},
   "outputs": [],
   "source": [
    "# Python docstrings are strings used right after the definition of a function.They are used to document our code.\n",
    "# We can write doc string by using  triple quotation  ''' ''' or \"\"\" \"\"\"\n",
    "def square(n):\n",
    "    # '''Takes in a number n, returns the square of n'''\n",
    "    return n**2"
   ]
  },
  {
   "cell_type": "code",
   "execution_count": 106,
   "id": "e4f906bd-3210-4f85-970c-512420eee597",
   "metadata": {},
   "outputs": [
    {
     "data": {
      "text/plain": [
       "4"
      ]
     },
     "execution_count": 106,
     "metadata": {},
     "output_type": "execute_result"
    }
   ],
   "source": [
    "square(2)"
   ]
  },
  {
   "cell_type": "code",
   "execution_count": null,
   "id": "33100423-2dd6-4957-9498-3fbdf9bae114",
   "metadata": {},
   "outputs": [],
   "source": []
  },
  {
   "cell_type": "code",
   "execution_count": null,
   "id": "95700647-cc7b-4348-a43b-f88c0a1c119d",
   "metadata": {},
   "outputs": [],
   "source": []
  },
  {
   "cell_type": "code",
   "execution_count": null,
   "id": "580d53b9-8b06-45d4-afab-aee8f487ae07",
   "metadata": {},
   "outputs": [],
   "source": []
  }
 ],
 "metadata": {
  "kernelspec": {
   "display_name": "Python 3 (ipykernel)",
   "language": "python",
   "name": "python3"
  },
  "language_info": {
   "codemirror_mode": {
    "name": "ipython",
    "version": 3
   },
   "file_extension": ".py",
   "mimetype": "text/x-python",
   "name": "python",
   "nbconvert_exporter": "python",
   "pygments_lexer": "ipython3",
   "version": "3.10.8"
  }
 },
 "nbformat": 4,
 "nbformat_minor": 5
}
